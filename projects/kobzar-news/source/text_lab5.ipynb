{
  "nbformat": 4,
  "nbformat_minor": 0,
  "metadata": {
    "colab": {
      "provenance": [],
      "gpuType": "T4"
    },
    "kernelspec": {
      "name": "python3",
      "display_name": "Python 3"
    },
    "language_info": {
      "name": "python"
    },
    "accelerator": "GPU"
  },
  "cells": [
    {
      "cell_type": "code",
      "execution_count": null,
      "metadata": {
        "id": "o1U1bsXQCelp"
      },
      "outputs": [],
      "source": [
        "from google.colab import drive\n",
        "drive.mount(\"/content/drive\")"
      ]
    },
    {
      "cell_type": "code",
      "source": [
        "import pandas as pd\n",
        "\n",
        "df = pd.read_csv(\"/content/drive/MyDrive/bbc_data.csv\")"
      ],
      "metadata": {
        "id": "42HmatqkCmmX"
      },
      "execution_count": null,
      "outputs": []
    },
    {
      "cell_type": "code",
      "source": [
        "import re"
      ],
      "metadata": {
        "id": "TZLaI3gmHbSL"
      },
      "execution_count": null,
      "outputs": []
    },
    {
      "cell_type": "code",
      "source": [
        "def chunk_text(text, size=500):\n",
        "    l = len(text)\n",
        "    chunked = []\n",
        "    pos = 0\n",
        "    while pos < l - 1:\n",
        "        if pos + size >= l:\n",
        "            chunked.append(text[pos:l-1])\n",
        "            pos = l - 1\n",
        "        else:\n",
        "            d = re.search('(?<=[+.+!?]) +', text[pos:])\n",
        "            if d is not None:\n",
        "                chunked.append(text[pos:pos+ d.end() - 1])\n",
        "                pos = pos + d.end()\n",
        "\n",
        "            else:\n",
        "                chunked.append(text[pos:pos+ size])\n",
        "                pos = pos + size\n",
        "\n",
        "    return chunked\n"
      ],
      "metadata": {
        "id": "DMtfS1YFC8X1"
      },
      "execution_count": null,
      "outputs": []
    },
    {
      "cell_type": "code",
      "source": [
        "ch= chunk_text(df['data'][0])"
      ],
      "metadata": {
        "id": "rl9E-SCzEuhD"
      },
      "execution_count": null,
      "outputs": []
    },
    {
      "cell_type": "code",
      "source": [
        "!pip install -U sentence-transformers"
      ],
      "metadata": {
        "id": "mtth_YEyG3Km"
      },
      "execution_count": null,
      "outputs": []
    },
    {
      "cell_type": "code",
      "source": [
        "from sentence_transformers import SentenceTransformer\n",
        "\n",
        "model = SentenceTransformer('sentence-transformers/paraphrase-multilingual-mpnet-base-v2')\n"
      ],
      "metadata": {
        "id": "HrFe4X_WG61X"
      },
      "execution_count": null,
      "outputs": []
    },
    {
      "cell_type": "code",
      "source": [
        "!pip install chromadb"
      ],
      "metadata": {
        "id": "29DDUwEIKhrB"
      },
      "execution_count": null,
      "outputs": []
    },
    {
      "cell_type": "code",
      "source": [
        "import chromadb\n",
        "chroma_client = chromadb.PersistentClient(path=\"/content/drive/MyDrive/chromadb_text_lab5\")"
      ],
      "metadata": {
        "id": "c1w3RUGmKmWq"
      },
      "execution_count": null,
      "outputs": []
    },
    {
      "cell_type": "code",
      "source": [
        "chroma_client2 = chromadb.PersistentClient(path=\"/content/drive/MyDrive/chromadb_text_lab5_v2\")\n",
        "\n",
        "chroma_client3 = chromadb.PersistentClient(path=\"/content/drive/MyDrive/chromadb_text_lab5_v3\")"
      ],
      "metadata": {
        "id": "-pj-vzJ9lmvZ"
      },
      "execution_count": null,
      "outputs": []
    },
    {
      "cell_type": "code",
      "source": [
        "collection2 = chroma_client.create_collection(name=\"text\")"
      ],
      "metadata": {
        "id": "0VtYF9w6LDDf"
      },
      "execution_count": null,
      "outputs": []
    },
    {
      "cell_type": "code",
      "source": [
        "collection = chroma_client.get_collection(name=\"text\")\n",
        "collection.count()"
      ],
      "metadata": {
        "id": "kwZmaSXPKpIZ"
      },
      "execution_count": null,
      "outputs": []
    },
    {
      "cell_type": "code",
      "source": [
        "collection2 = chroma_client2.create_collection(name=\"text2\", metadata={\"hnsw:space\": \"ip\"} )\n",
        "\n",
        "collection3 = chroma_client3.create_collection(name=\"text3\", metadata={\"hnsw:space\": \"cosine\"} )"
      ],
      "metadata": {
        "id": "5vbduRmUl1t7"
      },
      "execution_count": null,
      "outputs": []
    },
    {
      "cell_type": "code",
      "source": [
        "collection2 = chroma_client2.get_collection(name=\"text2\")\n",
        "\n",
        "collection3 = chroma_client3.get_collection(name=\"text3\")"
      ],
      "metadata": {
        "id": "mJoHP6-UmN_j"
      },
      "execution_count": null,
      "outputs": []
    },
    {
      "cell_type": "code",
      "source": [
        "from tqdm import tqdm"
      ],
      "metadata": {
        "id": "W3DOHgC6mXFh"
      },
      "execution_count": null,
      "outputs": []
    },
    {
      "cell_type": "code",
      "source": [
        "def add_to_collect(df, collection, add_to =False):\n",
        "    docs, embeds, metas, ids = [], [], [], []\n",
        "\n",
        "    chunked_text = []\n",
        "\n",
        "    for i in tqdm(range(len(df))):\n",
        "\n",
        "        ch = chunk_text(df['data'][i])\n",
        "\n",
        "        em = model.encode(ch)\n",
        "\n",
        "        for it, e in enumerate(em):\n",
        "            chunked_text.append(ch[it])\n",
        "\n",
        "            docs.append(f'doc{i}_chunk{it}')\n",
        "            embeds.append(e)\n",
        "            metas.append({'label': df['labels'][i]})\n",
        "            ids.append(f'id{i}_{it}')\n",
        "\n",
        "    if add_to:\n",
        "        collection.add(\n",
        "            documents=docs,\n",
        "            embeddings=embeds,\n",
        "            metadatas=metas,\n",
        "            ids=ids\n",
        "        )\n",
        "\n",
        "    dict_df = {'id': ids, 'chunked_text': chunked_text}\n",
        "\n",
        "    return pd.DataFrame(dict_df)"
      ],
      "metadata": {
        "id": "0xR0wuq6ZHGF"
      },
      "execution_count": null,
      "outputs": []
    },
    {
      "cell_type": "code",
      "source": [
        "ch_text = add_to_collect(df, collection, True)"
      ],
      "metadata": {
        "id": "z3njCXiiah-7"
      },
      "execution_count": null,
      "outputs": []
    },
    {
      "cell_type": "code",
      "source": [
        "ch_text2 = add_to_collect(df, collection2, True)\n",
        "\n",
        "ch_text3 = add_to_collect(df, collection3, True)\n"
      ],
      "metadata": {
        "id": "712wF0cMmh0Q"
      },
      "execution_count": null,
      "outputs": []
    },
    {
      "cell_type": "code",
      "source": [
        "collection.count()"
      ],
      "metadata": {
        "id": "Qv4EFW9Uo2cu"
      },
      "execution_count": null,
      "outputs": []
    },
    {
      "cell_type": "code",
      "source": [
        "ch_text.to_csv('/content/drive/MyDrive/chunked_text.csv')"
      ],
      "metadata": {
        "id": "UW_MNcVQVMri"
      },
      "execution_count": null,
      "outputs": []
    },
    {
      "cell_type": "code",
      "source": [
        "ccc = pd.read_csv('/content/drive/MyDrive/chunked_text.csv')\n",
        "len(ccc)"
      ],
      "metadata": {
        "id": "nOKyRHrvi5ns"
      },
      "execution_count": null,
      "outputs": []
    },
    {
      "cell_type": "code",
      "source": [
        "questions = ['Which Harry Potter book is the most popular', 'Which US car firms cut their production', 'Who wins double in Glasgow', 'Members of the Flora London Marathon this year', 'How many text messages was sent by US mobile users in 2004']"
      ],
      "metadata": {
        "id": "qifXKzOH86XV"
      },
      "execution_count": null,
      "outputs": []
    },
    {
      "cell_type": "code",
      "source": [
        "pd.set_option('display.max_colwidth', None)"
      ],
      "metadata": {
        "id": "CDR_1Pe5L9fU"
      },
      "execution_count": null,
      "outputs": []
    },
    {
      "cell_type": "code",
      "source": [
        "def get_answers(collection, ch_text):\n",
        "    for q in questions:\n",
        "        q_e = model.encode(q)\n",
        "        que = collection.query(\n",
        "            query_embeddings=q_e,\n",
        "            include=[\"documents\"]\n",
        "        )\n",
        "        res = que['ids'][0][:10]\n",
        "        for id in res:\n",
        "            print(ch_text[ch_text['id'] == id]['chunked_text'])\n",
        "            print('-------------------')\n",
        "        print()\n",
        "        print()"
      ],
      "metadata": {
        "id": "D7bmKsukKyoX"
      },
      "execution_count": null,
      "outputs": []
    },
    {
      "cell_type": "code",
      "source": [
        "get_answers(collection, ch_text)"
      ],
      "metadata": {
        "id": "YFVpN2XfoJes"
      },
      "execution_count": null,
      "outputs": []
    },
    {
      "cell_type": "code",
      "source": [
        "get_answers(collection2, ch_text2)"
      ],
      "metadata": {
        "id": "jgCpagC1oLrB"
      },
      "execution_count": null,
      "outputs": []
    },
    {
      "cell_type": "code",
      "source": [
        "get_answers(collection3, ch_text3)"
      ],
      "metadata": {
        "id": "eEIFXiGAoNKo"
      },
      "execution_count": null,
      "outputs": []
    }
  ]
}