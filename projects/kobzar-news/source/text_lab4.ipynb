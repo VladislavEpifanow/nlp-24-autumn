{
  "nbformat": 4,
  "nbformat_minor": 0,
  "metadata": {
    "colab": {
      "provenance": []
    },
    "kernelspec": {
      "name": "python3",
      "display_name": "Python 3"
    },
    "language_info": {
      "name": "python"
    }
  },
  "cells": [
    {
      "cell_type": "code",
      "execution_count": null,
      "metadata": {
        "id": "I3GlGvzbEVgJ"
      },
      "outputs": [],
      "source": [
        "from google.colab import drive\n",
        "drive.mount(\"/content/drive\", force_remount=True)"
      ]
    },
    {
      "cell_type": "code",
      "source": [
        "import numpy as np\n",
        "import pandas as pd\n"
      ],
      "metadata": {
        "id": "-aUgtircRT85"
      },
      "execution_count": null,
      "outputs": []
    },
    {
      "cell_type": "code",
      "source": [
        "df_train = pd.read_csv('/content/drive/MyDrive/train_lab3.tsv', sep='\\t', header=None)\n",
        "df_train"
      ],
      "metadata": {
        "id": "hR9Wk9kvuuz1"
      },
      "execution_count": null,
      "outputs": []
    },
    {
      "cell_type": "code",
      "source": [
        "df_test = pd.read_csv('/content/drive/MyDrive/test_lab3.tsv', sep='\\t', header=None)\n",
        "df_test"
      ],
      "metadata": {
        "id": "xF0_PUr6ogMC"
      },
      "execution_count": null,
      "outputs": []
    },
    {
      "cell_type": "code",
      "source": [
        "df_test = df_test.drop(df_test.columns[[0]], axis = 1)\n",
        "df_train = df_train.drop(df_train.columns[[0]], axis = 1)"
      ],
      "metadata": {
        "id": "qr0SGDDJykYW"
      },
      "execution_count": null,
      "outputs": []
    },
    {
      "cell_type": "code",
      "source": [
        "df_test_l = pd.read_csv('/content/drive/MyDrive/test_labels.txt', header=None)"
      ],
      "metadata": {
        "id": "HHWX0K3-xE3H"
      },
      "execution_count": null,
      "outputs": []
    },
    {
      "cell_type": "code",
      "source": [
        "df_train_l = pd.read_csv('/content/drive/MyDrive/train_labels.txt', header=None)"
      ],
      "metadata": {
        "id": "ZytuosDxxXbN"
      },
      "execution_count": null,
      "outputs": []
    },
    {
      "cell_type": "code",
      "source": [
        "from sklearn.metrics import confusion_matrix"
      ],
      "metadata": {
        "id": "Fg12zZ3dXGHp"
      },
      "execution_count": null,
      "outputs": []
    },
    {
      "cell_type": "code",
      "source": [
        "num_classes = 5\n",
        "classes = [0, 1, 2, 3, 4]\n",
        "\n",
        "def metrics(real, pred):\n",
        "    TP, FP, TN, FN = {0: 0, 1:0, 2:0, 3:0, 4:0}, {0: 0, 1:0, 2:0, 3:0, 4:0}, {0: 0, 1:0, 2:0, 3:0, 4:0}, {0: 0, 1:0, 2:0, 3:0, 4:0}\n",
        "    cf = confusion_matrix(df_test_l, pred)\n",
        "\n",
        "    print(cf)\n",
        "\n",
        "    for i in range(num_classes):\n",
        "\n",
        "        for j in range(num_classes):\n",
        "\n",
        "            TP[i] = cf[i][i]\n",
        "            if i != j:\n",
        "                FN[i] += cf[i][j]\n",
        "                FP[j] += cf[i][j]\n",
        "\n",
        "            for k in classes:\n",
        "                if k != i and k != j:\n",
        "                    TN[k] += cf[i][j]\n",
        "\n",
        "\n",
        "    accuracy = (sum([TP[i] for i in classes]) + sum([TN[i] for i in classes])) / (sum([TP[i] for i in classes]) + sum([TN[i] for i in classes]) + sum([FP[i] for i in classes]) + sum([FN[i] for i in classes]))\n",
        "    recall = sum([TP[i] for i in classes])/(sum([TP[i] for i in classes]) + sum([FN[i] for i in classes]))\n",
        "    precision = sum([TP[i] for i in classes])/(sum([TP[i] for i in classes]) + sum([FP[i] for i in classes]))\n",
        "    f1 = 2 * recall * precision / (recall + precision)\n",
        "\n",
        "\n",
        "    return accuracy, recall, precision, f1"
      ],
      "metadata": {
        "id": "RuoMPX9WXa0d"
      },
      "execution_count": null,
      "outputs": []
    },
    {
      "cell_type": "code",
      "source": [
        "from sklearn import svm\n",
        "import time\n",
        "\n",
        "\n",
        "clf = svm.SVC(kernel='linear')\n",
        "st_t = time.time()\n",
        "clf.fit(df_train, df_train_l)\n",
        "t1 = time.time() - st_t\n",
        "\n",
        "pred = clf.predict(df_test)\n",
        "\n",
        "acc1, rec1, pr1, f1_1 = metrics(df_test_l, pred)"
      ],
      "metadata": {
        "id": "wBFcrlajySjD"
      },
      "execution_count": null,
      "outputs": []
    },
    {
      "cell_type": "code",
      "source": [
        "clf = svm.SVC(kernel='poly', degree = 6)\n",
        "\n",
        "st_t = time.time()\n",
        "clf.fit(df_train, df_train_l)\n",
        "t2 = time.time() - st_t\n",
        "\n",
        "\n",
        "pred = clf.predict(df_test)\n",
        "\n",
        "acc2, rec2, pr2, f1_2 = metrics(df_test_l, pred)"
      ],
      "metadata": {
        "id": "gVBaYb5PKCCK"
      },
      "execution_count": null,
      "outputs": []
    },
    {
      "cell_type": "code",
      "source": [
        "clf = svm.SVC(kernel='rbf', gamma=11)\n",
        "\n",
        "st_t = time.time()\n",
        "clf.fit(df_train, df_train_l)\n",
        "t3 = time.time() - st_t\n",
        "\n",
        "pred = clf.predict(df_test)\n",
        "\n",
        "acc3, rec3, pr3, f1_3 = metrics(df_test_l, pred)"
      ],
      "metadata": {
        "id": "z2UcF48eKd6l"
      },
      "execution_count": null,
      "outputs": []
    },
    {
      "cell_type": "code",
      "source": [
        "clf = svm.SVC(kernel='sigmoid', coef0=10)\n",
        "\n",
        "st_t = time.time()\n",
        "clf.fit(df_train, df_train_l)\n",
        "t4 = time.time() - st_t\n",
        "\n",
        "\n",
        "pred = clf.predict(df_test)\n",
        "\n",
        "acc4, rec4, pr4, f1_4 = metrics(df_test_l, pred)"
      ],
      "metadata": {
        "id": "ec4LCj71LA9I"
      },
      "execution_count": null,
      "outputs": []
    },
    {
      "cell_type": "code",
      "source": [
        "from sklearn.decomposition import PCA\n",
        "\n",
        "pca = PCA(n_components=26)\n",
        "pca.fit(df_train)\n",
        "\n",
        "df_train_pca = pca.transform(df_train)\n",
        "df_test_pca = pca.transform(df_test)"
      ],
      "metadata": {
        "id": "ls4CJZCwMa2H"
      },
      "execution_count": null,
      "outputs": []
    },
    {
      "cell_type": "code",
      "source": [
        "from sklearn import svm\n",
        "clf = svm.SVC(kernel='linear')\n",
        "\n",
        "st_t = time.time()\n",
        "clf.fit(df_train_pca, df_train_l)\n",
        "t5 = time.time() - st_t\n",
        "\n",
        "\n",
        "pred = clf.predict(df_test_pca)\n",
        "\n",
        "acc5, rec5, pr5, f1_5 = metrics(df_test_l, pred)"
      ],
      "metadata": {
        "id": "PgDnEwT4M2Zm"
      },
      "execution_count": null,
      "outputs": []
    },
    {
      "cell_type": "code",
      "source": [
        "df_train_sin = df_train.transform([lambda x: x, np.sin])\n",
        "df_test_sin = df_test.transform([lambda x: x, np.sin])\n",
        "\n",
        "clf = svm.SVC(kernel='linear')\n",
        "\n",
        "st_t = time.time()\n",
        "clf.fit(df_train_sin, df_train_l)\n",
        "t6 = time.time() - st_t\n",
        "\n",
        "\n",
        "pred = clf.predict(df_test_sin)\n",
        "\n",
        "acc6, rec6, pr6, f1_6 = metrics(df_test_l, pred)"
      ],
      "metadata": {
        "id": "t4cU-WqdOxsQ"
      },
      "execution_count": null,
      "outputs": []
    },
    {
      "cell_type": "code",
      "source": [
        "df_train_cos = df_train.transform([lambda x: x, np.cos])\n",
        "df_test_cos = df_test.transform([lambda x: x, np.cos])\n",
        "\n",
        "clf = svm.SVC(kernel='linear')\n",
        "\n",
        "st_t = time.time()\n",
        "clf.fit(df_train_cos, df_train_l)\n",
        "t7 = time.time() - st_t\n",
        "\n",
        "\n",
        "pred = clf.predict(df_test_cos)\n",
        "\n",
        "acc7, rec7, pr7, f1_7 = metrics(df_test_l, pred)"
      ],
      "metadata": {
        "id": "yKF0bOinO4_e"
      },
      "execution_count": null,
      "outputs": []
    },
    {
      "cell_type": "code",
      "source": [
        "df_train_sin_cos = df_train.transform([lambda x: x, np.sin, np.cos])\n",
        "df_test_sin_cos = df_test.transform([lambda x: x, np.sin, np.cos])\n",
        "\n",
        "clf = svm.SVC(kernel='linear')\n",
        "\n",
        "st_t = time.time()\n",
        "clf.fit(df_train_sin_cos, df_train_l)\n",
        "t8 = time.time() - st_t\n",
        "\n",
        "\n",
        "pred = clf.predict(df_test_sin_cos)\n",
        "\n",
        "acc8, rec8, pr8, f1_8 = metrics(df_test_l, pred)"
      ],
      "metadata": {
        "id": "hY22K1xWPiGf"
      },
      "execution_count": null,
      "outputs": []
    },
    {
      "cell_type": "code",
      "source": [
        "res = pd.DataFrame(\n",
        "    {'type': ['linear', 'poly, degree=6', 'rbf, gamma=11', 'sigmoid, coef0=10', 'pca, n_comp=26', 'linear, sin', 'linear, cos', 'linear, sin-cos'],\n",
        "     'accuracy': [acc1, acc2, acc3, acc4, acc5, acc6, acc7, acc8],\n",
        "     'recall': [rec1, rec2, rec3, rec4, rec5, rec6, rec7, rec8],\n",
        "     'precision': [pr1, pr2, pr3, pr4, pr5, pr6, pr7, pr8],\n",
        "     'f1-score': [f1_1, f1_2, f1_3, f1_4, f1_5, f1_6, f1_7, f1_8],\n",
        "     'training time': [t1, t2, t3, t4, t5, t6, t7, t8]\n",
        "    })\n",
        "res"
      ],
      "metadata": {
        "id": "BjW2R3DCjlRi"
      },
      "execution_count": null,
      "outputs": []
    }
  ]
}