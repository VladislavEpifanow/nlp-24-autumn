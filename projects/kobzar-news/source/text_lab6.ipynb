{
  "cells": [
    {
      "cell_type": "code",
      "execution_count": null,
      "metadata": {
        "id": "trO8EeYRt0hA"
      },
      "outputs": [],
      "source": [
        "from google.colab import drive\n",
        "drive.mount(\"/content/drive\")"
      ]
    },
    {
      "cell_type": "code",
      "execution_count": null,
      "metadata": {
        "id": "lhFzRHeGVver"
      },
      "outputs": [],
      "source": [
        "import pandas as pd\n",
        "from tqdm import tqdm"
      ]
    },
    {
      "cell_type": "code",
      "execution_count": null,
      "metadata": {
        "id": "qs2f3SqsucCx"
      },
      "outputs": [],
      "source": [
        "!pip install llama-cpp-python"
      ]
    },
    {
      "cell_type": "code",
      "execution_count": null,
      "metadata": {
        "id": "h5rYZkTpt4aj"
      },
      "outputs": [],
      "source": [
        "from llama_cpp import Llama\n",
        "\n",
        "llm = Llama.from_pretrained(\n",
        "\trepo_id=\"TheBloke/Mistral-7B-OpenOrca-GGUF\",\n",
        "\tfilename=\"mistral-7b-openorca.Q2_K.gguf\",\n",
        ")\n"
      ]
    },
    {
      "cell_type": "code",
      "execution_count": null,
      "metadata": {
        "id": "4PhS4L1lF6sr"
      },
      "outputs": [],
      "source": [
        "!pip install chromadb"
      ]
    },
    {
      "cell_type": "code",
      "execution_count": null,
      "metadata": {
        "id": "WyHeOlIEHOry"
      },
      "outputs": [],
      "source": [
        "import chromadb\n",
        "chroma_client = chromadb.PersistentClient(path=\"/content/drive/MyDrive/chromadb_text_lab5\")"
      ]
    },
    {
      "cell_type": "code",
      "execution_count": null,
      "metadata": {
        "id": "EWnb1eN5HSTa"
      },
      "outputs": [],
      "source": [
        "collection = chroma_client.get_collection(name=\"text\")\n",
        "collection.count()"
      ]
    },
    {
      "cell_type": "code",
      "execution_count": null,
      "metadata": {
        "id": "ebu9SjMLH8Hg"
      },
      "outputs": [],
      "source": [
        "from sentence_transformers import SentenceTransformer\n",
        "\n",
        "model = SentenceTransformer('sentence-transformers/paraphrase-multilingual-mpnet-base-v2')"
      ]
    },
    {
      "cell_type": "code",
      "execution_count": null,
      "metadata": {
        "id": "bjDM7_tpVq7h"
      },
      "outputs": [],
      "source": [
        "ch_text = pd.read_csv('/content/drive/MyDrive/chunked_text.csv')"
      ]
    },
    {
      "cell_type": "code",
      "execution_count": null,
      "metadata": {
        "id": "N0XheKOFW3TT"
      },
      "outputs": [],
      "source": [
        "pd.set_option('display.max_colwidth', None)"
      ]
    },
    {
      "cell_type": "code",
      "execution_count": null,
      "metadata": {
        "id": "Bael8m-Yg0AH"
      },
      "outputs": [],
      "source": [
        "ch_t = ch_text[['id', 'chunked_text']]\n",
        "ch_t = ch_text.set_index('id')"
      ]
    },
    {
      "cell_type": "code",
      "execution_count": null,
      "metadata": {
        "id": "fKChEgMUH2BI"
      },
      "outputs": [],
      "source": [
        "def get_answers(collection, ch_text, q):\n",
        "    answ = []\n",
        "\n",
        "    q_e = model.encode(q)\n",
        "    que = collection.query(\n",
        "        query_embeddings=q_e,\n",
        "        include=[\"documents\"]\n",
        "    )\n",
        "    res = que['ids'][0][:3]\n",
        "\n",
        "    for id in res:\n",
        "        answ.append(ch_text.loc[id]['chunked_text'])\n",
        "\n",
        "    return answ\n"
      ]
    },
    {
      "cell_type": "code",
      "execution_count": null,
      "metadata": {
        "id": "mZGPWehdnEi1"
      },
      "outputs": [],
      "source": [
        "def get_responce(collection, ch_t, q):\n",
        "    context = get_answers(collection, ch_t, q)\n",
        "    context = ' '.join(context)\n",
        "    template = f\"Answer the user query using the context. User: {q} considering Context {context}\"\n",
        "\n",
        "    resp = ''\n",
        "    att = 0\n",
        "\n",
        "    while resp == '' and att < 10:\n",
        "        att += 1\n",
        "        r = llm.create_chat_completion(\n",
        "            messages = [\n",
        "                {\n",
        "                    \"role\": \"user\",\n",
        "                    \"content\": template\n",
        "                }\n",
        "            ]\n",
        "        )\n",
        "\n",
        "        resp = r['choices'][0]['message']['content'].replace('\\n', '')\n",
        "\n",
        "\n",
        "    return resp\n"
      ]
    },
    {
      "cell_type": "code",
      "execution_count": null,
      "metadata": {
        "id": "ZDhDHk_mOqqf"
      },
      "outputs": [],
      "source": [
        "q = 'Which Harry Potter movie would you recommend?'\n",
        "r = get_responce(collection, ch_t, q)"
      ]
    },
    {
      "cell_type": "code",
      "execution_count": null,
      "metadata": {
        "id": "nAw9XM3LqtJO"
      },
      "outputs": [],
      "source": [
        "q = 'About what Harry Potter and the Half-Blood Prince?'\n",
        "\n",
        "r = get_responce(collection, ch_t, q)\n",
        "r"
      ]
    },
    {
      "cell_type": "code",
      "execution_count": null,
      "metadata": {
        "id": "tBWRCMGcsV9G"
      },
      "outputs": [],
      "source": [
        "!pip install --upgrade gradio"
      ]
    },
    {
      "cell_type": "code",
      "execution_count": null,
      "metadata": {
        "id": "OvkIk4sPscAA"
      },
      "outputs": [],
      "source": [
        "import gradio as gr\n",
        "\n",
        "def chat(q):\n",
        "    r = get_responce(collection, ch_t, q)\n",
        "    print(r)\n",
        "    return r\n",
        "\n",
        "demo = gr.Interface(\n",
        "    fn=chat,\n",
        "    inputs=[\"text\"],\n",
        "    outputs=[\"text\"],\n",
        ")\n",
        "\n",
        "demo.launch()\n"
      ]
    },
    {
      "cell_type": "code",
      "execution_count": null,
      "metadata": {
        "id": "VUoFYWa1dcdI"
      },
      "outputs": [],
      "source": [
        "questions = [\n",
        "    'Which Harry Potter movie is the most popular?',\n",
        "    'How much should pay a singer to perform in US?',\n",
        "    'How many songs iTunes have sold?',\n",
        "    'What was the first film Johny Depp is played?',\n",
        "    'Who will be performing in 25th award ceremony in London?',\n",
        "    'In which movie played Keanu Reeves?',\n",
        "    'Best childrens film due to Bafta?',\n",
        "    'When Van Gogh was stabbed to death?',\n",
        "    'In which films Lee was Co-creator?',\n",
        "    'How many nominations for the awards has Alicia Keys?'\n",
        "]"
      ]
    },
    {
      "cell_type": "code",
      "execution_count": null,
      "metadata": {
        "id": "Dhl_6AIadJ5m"
      },
      "outputs": [],
      "source": [
        "responces = []\n",
        "\n",
        "\n",
        "for q_i in tqdm(questions):\n",
        "    r_i = get_responce(collection, ch_t, q_i)\n",
        "    responces.append(r_i)"
      ]
    },
    {
      "cell_type": "code",
      "execution_count": null,
      "metadata": {
        "id": "Z5zToXNdrAaQ"
      },
      "outputs": [],
      "source": [
        "q = 'How many nominations for the awards has Alicia Keys?'\n",
        "\n",
        "r = get_responce(collection, ch_t, q)"
      ]
    },
    {
      "cell_type": "code",
      "source": [
        "references = [\n",
        "    'Harry Potter and the Prisoner of Azkaban, runner-up in the poll, was the choice of the Bafta experts who named it best feature film.',\n",
        "    'A singer hoping to perform in the US can expect to pay $1,300 simply for obtaining a visa.',\n",
        "    'More than 200 million songs have been sold by the iTunes music store since it was launched.',\n",
        "    'In 1984 he started his film career playing a doomed teenager in horror film Nightmare On Elm Street.',\n",
        "    'Ms Stone is due to perform at the 25th award ceremony at Londons Earls Court.',\n",
        "    'Keanu Reeves given Hollywood star  Actor Keanu Reeves, best known for his role in the Matrix movies, has been awarded a star on the prestigious Hollywood Walk of Fame.',\n",
        "    'Children vote Shrek 2 best film  Young UK film fans voted animated Hollywood hit Shrek 2 best film at the childrens Bafta awards on Sunday.',\n",
        "    'Van Gogh was shot and stabbed in November 2004, following death threats he received about his film Submission.',\n",
        "    'As well as Spider-Man, Lee co-created the Incredible Hulk, X-Men, Daredevil and Fantastic Four characters.',\n",
        "    'while Alicia Keys has three.'\n",
        "]"
      ],
      "metadata": {
        "id": "MH8Xo1kBAqwa"
      },
      "execution_count": null,
      "outputs": []
    },
    {
      "cell_type": "code",
      "source": [
        "!pip install evaluate"
      ],
      "metadata": {
        "id": "ZxI19UkUNvII"
      },
      "execution_count": null,
      "outputs": []
    },
    {
      "cell_type": "code",
      "source": [
        "!pip install bert_score"
      ],
      "metadata": {
        "id": "UPns0B9GN85z"
      },
      "execution_count": null,
      "outputs": []
    },
    {
      "cell_type": "code",
      "source": [
        "from evaluate import load\n",
        "\n",
        "bertscore = load(\"bertscore\")\n",
        "results = bertscore.compute(predictions=responces, references=references, lang=\"en\")"
      ],
      "metadata": {
        "id": "A8wJMOYFAFgs"
      },
      "execution_count": null,
      "outputs": []
    },
    {
      "cell_type": "code",
      "source": [
        "results"
      ],
      "metadata": {
        "id": "VYWX_C79AmFg"
      },
      "execution_count": null,
      "outputs": []
    }
  ],
  "metadata": {
    "accelerator": "GPU",
    "colab": {
      "gpuType": "T4",
      "provenance": []
    },
    "kernelspec": {
      "display_name": "Python 3",
      "name": "python3"
    },
    "language_info": {
      "name": "python"
    }
  },
  "nbformat": 4,
  "nbformat_minor": 0
}