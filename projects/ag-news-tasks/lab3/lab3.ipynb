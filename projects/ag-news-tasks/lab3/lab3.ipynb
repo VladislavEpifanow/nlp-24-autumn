{
 "cells": [
  {
   "cell_type": "code",
   "execution_count": 28,
   "id": "f10c2899-4c6b-4fae-b798-697874280d8e",
   "metadata": {},
   "outputs": [],
   "source": [
    "from gensim.models import Word2Vec\n",
    "import pandas as pd\n",
    "import re\n",
    "import nltk\n",
    "from nltk.corpus import stopwords\n",
    "import os\n",
    "import numpy as np\n",
    "import matplotlib.pyplot as plt\n",
    "from tqdm import tqdm"
   ]
  },
  {
   "cell_type": "code",
   "execution_count": 20,
   "id": "804d7023-6f9e-40a4-b0ca-98e068123218",
   "metadata": {},
   "outputs": [
    {
     "name": "stderr",
     "output_type": "stream",
     "text": [
      "[nltk_data] Downloading package stopwords to\n",
      "[nltk_data]     C:\\Users\\vepif\\AppData\\Roaming\\nltk_data...\n",
      "[nltk_data]   Package stopwords is already up-to-date!\n"
     ]
    },
    {
     "data": {
      "text/plain": [
       "True"
      ]
     },
     "execution_count": 20,
     "metadata": {},
     "output_type": "execute_result"
    }
   ],
   "source": [
    "nltk.download('stopwords')"
   ]
  },
  {
   "cell_type": "code",
   "execution_count": 29,
   "id": "9be5fada-f35b-41a8-97e1-157056ddde58",
   "metadata": {},
   "outputs": [],
   "source": [
    "train_data = []\n",
    "test_data = []"
   ]
  },
  {
   "cell_type": "code",
   "execution_count": 30,
   "id": "77791c2b-c6ca-4104-9f40-96b49191c294",
   "metadata": {},
   "outputs": [],
   "source": [
    "def prepare_data(tokens):\n",
    "    pattern = r'[^\\w\\s]'\n",
    "    stop_words = set(stopwords.words('english'))\n",
    "    \n",
    "    cleaned_tokens = []\n",
    "    for token in tokens:\n",
    "        clean_token = re.sub(pattern, '', str(token).lower())\n",
    "        if clean_token != '' and clean_token not in stop_words:\n",
    "            cleaned_tokens.append(clean_token)\n",
    "        \n",
    "    return cleaned_tokens"
   ]
  },
  {
   "cell_type": "code",
   "execution_count": 31,
   "id": "1531c998-064b-4086-a86c-7472c1e28a57",
   "metadata": {},
   "outputs": [
    {
     "name": "stderr",
     "output_type": "stream",
     "text": [
      "  0%|                                                                                            | 0/2 [00:00<?, ?it/s]\n",
      "  0%|                                                                                            | 0/4 [00:00<?, ?it/s]\u001b[A\n",
      " 25%|█████████████████████                                                               | 1/4 [00:06<00:18,  6.19s/it]\u001b[A\n",
      " 50%|██████████████████████████████████████████                                          | 2/4 [00:12<00:13,  6.53s/it]\u001b[A\n",
      " 75%|███████████████████████████████████████████████████████████████                     | 3/4 [00:19<00:06,  6.49s/it]\u001b[A\n",
      "100%|████████████████████████████████████████████████████████████████████████████████████| 4/4 [00:25<00:00,  6.49s/it]\u001b[A\n",
      " 50%|██████████████████████████████████████████                                          | 1/2 [00:25<00:25, 25.96s/it]\n",
      "  0%|                                                                                            | 0/4 [00:00<?, ?it/s]\u001b[A\n",
      " 25%|█████████████████████                                                               | 1/4 [00:00<00:01,  1.71it/s]\u001b[A\n",
      " 50%|██████████████████████████████████████████                                          | 2/4 [00:01<00:01,  1.86it/s]\u001b[A\n",
      " 75%|███████████████████████████████████████████████████████████████                     | 3/4 [00:01<00:00,  1.84it/s]\u001b[A\n",
      "100%|████████████████████████████████████████████████████████████████████████████████████| 4/4 [00:02<00:00,  1.73it/s]\u001b[A\n",
      "100%|████████████████████████████████████████████████████████████████████████████████████| 2/2 [00:28<00:00, 14.15s/it]\n"
     ]
    }
   ],
   "source": [
    "for data_type in tqdm(['train', 'test']):\n",
    "    for folder in tqdm(['0', '1', '2', '3']):\n",
    "        folder_path = f'../assets/annotated-corpus/{data_type}/{folder}/{folder}.tsv'\n",
    "        data = pd.read_csv(folder_path, sep='\\t', header= None)\n",
    "        data = prepare_data(data[0].to_list())\n",
    "        \n",
    "        if data_type == 'train':\n",
    "            train_data.extend(data)\n",
    "        else:\n",
    "            test_data.extend(data)\n",
    "            "
   ]
  },
  {
   "cell_type": "code",
   "execution_count": 39,
   "id": "8411c8ea-011e-437d-9d33-e8a7a96c2a0b",
   "metadata": {},
   "outputs": [],
   "source": [
    "model = Word2Vec(sentences=train_data, vector_size=100, window=3, min_count=1, workers=-1)"
   ]
  },
  {
   "cell_type": "code",
   "execution_count": 42,
   "id": "1e088c03-4b9d-4c7a-a099-d4483d3baa93",
   "metadata": {
    "scrolled": true
   },
   "outputs": [
    {
     "data": {
      "text/plain": [
       "(0, 0)"
      ]
     },
     "execution_count": 42,
     "metadata": {},
     "output_type": "execute_result"
    }
   ],
   "source": [
    "model.train(train_data, total_examples=len(train_data), epochs=100)"
   ]
  },
  {
   "cell_type": "code",
   "execution_count": 43,
   "id": "72225209-f11c-41f6-b030-18db4562aec5",
   "metadata": {},
   "outputs": [],
   "source": [
    "model.save(\"word2vec.model\")"
   ]
  },
  {
   "cell_type": "code",
   "execution_count": null,
   "id": "56f1e8bc-1d22-442e-b6e3-50ccdbcfac09",
   "metadata": {},
   "outputs": [],
   "source": [
    "model.wv['computer']"
   ]
  },
  {
   "cell_type": "code",
   "execution_count": null,
   "id": "81ed6f8a-1fd2-4c09-9d9f-3ac88bdb9943",
   "metadata": {},
   "outputs": [],
   "source": [
    "model"
   ]
  },
  {
   "cell_type": "code",
   "execution_count": null,
   "id": "e0fc0c99-f0f5-4a84-9c67-410494cfea82",
   "metadata": {},
   "outputs": [],
   "source": []
  }
 ],
 "metadata": {
  "kernelspec": {
   "display_name": "Python 3 (ipykernel)",
   "language": "python",
   "name": "python3"
  },
  "language_info": {
   "codemirror_mode": {
    "name": "ipython",
    "version": 3
   },
   "file_extension": ".py",
   "mimetype": "text/x-python",
   "name": "python",
   "nbconvert_exporter": "python",
   "pygments_lexer": "ipython3",
   "version": "3.11.7"
  }
 },
 "nbformat": 4,
 "nbformat_minor": 5
}
