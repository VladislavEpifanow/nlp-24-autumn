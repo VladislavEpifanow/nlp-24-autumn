{
 "cells": [
  {
   "metadata": {},
   "cell_type": "code",
   "source": [
    "import pandas as pd\n",
    "import regex as re\n",
    "import nltk\n",
    "from nltk.corpus import stopwords\n",
    "from collections import Counter\n",
    "from collections import defaultdict\n",
    "import math"
   ],
   "id": "62676db2b6ad504f",
   "outputs": [],
   "execution_count": null
  },
  {
   "metadata": {},
   "cell_type": "code",
   "source": [
    "nltk.download('stopwords')\n",
    "\n",
    "stop_words = set(stopwords.words('english'))"
   ],
   "id": "56ab68be86254fae",
   "outputs": [],
   "execution_count": null
  },
  {
   "metadata": {},
   "cell_type": "code",
   "source": [
    "def read_tsv_file(path_file):\n",
    "    sentences = list()\n",
    "    sentence = list()\n",
    "    with open(path_file) as file:\n",
    "        for line in file:\n",
    "            if line != \"\\n\":\n",
    "                lemma = line.split('\\t')[2]\n",
    "                sentence.append(lemma[:-1])\n",
    "            if line == \"\\n\" and sentence:\n",
    "                sentences.append(sentence)\n",
    "                sentence = list()\n",
    "    return sentences\n"
   ],
   "id": "7be0900b37edce09",
   "outputs": [],
   "execution_count": null
  },
  {
   "metadata": {},
   "cell_type": "code",
   "source": [
    "def remove_punct_marks(data):\n",
    "    clear_data = list()\n",
    "    for sentence in data:\n",
    "        sentence_data = [re.sub(r\"[^\\P{P}-]+\",\"\", lemma.lower()) for lemma in sentence if re.sub(r\"[^\\P{P}-]+\",\"\", lemma.lower()) and lemma.lower() not in stop_words]\n",
    "        clear_data.append(sentence_data)\n",
    "    return clear_data"
   ],
   "id": "bae580bf8e7b518c",
   "outputs": [],
   "execution_count": null
  },
  {
   "metadata": {},
   "cell_type": "code",
   "source": [
    "def extract_trigrams(clear_data):\n",
    "    trigrams = list()\n",
    "    for sentence in clear_data:\n",
    "        for i in range(len(sentence) - 2):\n",
    "            trigrams.append(sentence[i:i+3])\n",
    "    return trigrams\n"
   ],
   "id": "9e5d9d1287eff2bd",
   "outputs": [],
   "execution_count": null
  },
  {
   "metadata": {},
   "cell_type": "code",
   "source": [
    "def count_words(clear_data):\n",
    "    f_words = dict()\n",
    "    for sentence in clear_data:\n",
    "        for word in sentence:\n",
    "            if word not in f_words:\n",
    "                f_words[word] = 1\n",
    "            else:\n",
    "                f_words[word] += 1\n",
    "    return f_words"
   ],
   "id": "442e87e7eb97c536",
   "outputs": [],
   "execution_count": null
  },
  {
   "metadata": {},
   "cell_type": "code",
   "source": [
    "def t_score(trigram_frequencies, word_counts, total_words):\n",
    "    t_scores = {}\n",
    "    for trigram, count in trigram_frequencies.items():\n",
    "        expected_frequency = (word_counts[trigram[0]] / total_words) * \\\n",
    "                             (word_counts[trigram[1]] / total_words) * \\\n",
    "                             (word_counts[trigram[2]] / total_words) * total_words\n",
    "        t_score = (count - expected_frequency) / math.sqrt(count)\n",
    "        t_scores[trigram] = t_score\n",
    "    return t_scores"
   ],
   "id": "3b81973503adb651",
   "outputs": [],
   "execution_count": null
  },
  {
   "metadata": {},
   "cell_type": "code",
   "source": [
    "def trigram_frequencies(trigrams_data):\n",
    "    trigram_frequency = dict()\n",
    "    for trigram in trigrams_data:\n",
    "        if tuple(trigram) not in trigram_frequency:\n",
    "            trigram_frequency[tuple(trigram)] = 1\n",
    "        else:\n",
    "            trigram_frequency[tuple(trigram)] += 1\n",
    "    return trigram_frequency"
   ],
   "id": "f0a719ccb739777d",
   "outputs": [],
   "execution_count": null
  },
  {
   "metadata": {},
   "cell_type": "code",
   "source": [
    "data = read_tsv_file('/Users/ddhearted/Desktop/NLP/lab1/train/rec.autos/101555.tsv')\n",
    "clear_data = remove_punct_marks(data)\n",
    "\n",
    "trigrams_data = extract_trigrams(clear_data)\n",
    "word_counts = count_words(clear_data)\n",
    "\n",
    "trigram_frequency = trigram_frequencies(trigrams_data)\n",
    "total_words = sum(word_counts.values())\n",
    "\n",
    "t_scores = t_score(trigram_frequency, word_counts, total_words)\n",
    "\n",
    "sorted_t_scores = sorted(t_scores.items(), key=lambda x: x[1], reverse=True)[:10]\n",
    "\n",
    "for trigram, score in sorted_t_scores:\n",
    "    print(f\"{trigram}: {score}\")"
   ],
   "id": "cef28d7c8abad009",
   "outputs": [],
   "execution_count": null
  },
  {
   "metadata": {},
   "cell_type": "code",
   "source": [
    "import nltk\n",
    "from nltk.collocations import *\n",
    "from nltk.corpus import PlaintextCorpusReader\n",
    "\n",
    "bigram_measures = nltk.collocations.BigramAssocMeasures()\n",
    "trigram_measures = nltk.collocations.TrigramAssocMeasures()\n",
    "\n",
    "f = open('/Users/ddhearted/Desktop/NLP/lab1/train/rec.autos/101555.tsv')\n",
    "raw = f.read()\n",
    "\n",
    "tokens = nltk.word_tokenize(raw,'english',True)\n",
    "print(tokens[:60])"
   ],
   "id": "4325acc820f056d",
   "outputs": [],
   "execution_count": null
  },
  {
   "metadata": {},
   "cell_type": "code",
   "source": [
    "trigram_measures = nltk.collocations.TrigramAssocMeasures()\n",
    "\n",
    "flat_list = [item for sublist in clear_data for item in sublist]\n",
    "finder_thr = TrigramCollocationFinder.from_words(flat_list)"
   ],
   "id": "43ba16573bd62e9a",
   "outputs": [],
   "execution_count": null
  },
  {
   "metadata": {},
   "cell_type": "code",
   "source": "finder_thr.nbest(trigram_measures.student_t, 10)",
   "id": "510c40754a3f1d0a",
   "outputs": [],
   "execution_count": null
  },
  {
   "metadata": {},
   "cell_type": "code",
   "source": "",
   "id": "5d4a33ae513ef2e4",
   "outputs": [],
   "execution_count": null
  }
 ],
 "metadata": {
  "kernelspec": {
   "display_name": "Python 3",
   "language": "python",
   "name": "python3"
  },
  "language_info": {
   "codemirror_mode": {
    "name": "ipython",
    "version": 2
   },
   "file_extension": ".py",
   "mimetype": "text/x-python",
   "name": "python",
   "nbconvert_exporter": "python",
   "pygments_lexer": "ipython2",
   "version": "2.7.6"
  }
 },
 "nbformat": 4,
 "nbformat_minor": 5
}
