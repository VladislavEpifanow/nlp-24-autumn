{
 "metadata": {
  "kernelspec": {
   "name": "python3",
   "display_name": "Python 3",
   "language": "python"
  },
  "language_info": {
   "name": "python",
   "version": "3.10.14",
   "mimetype": "text/x-python",
   "codemirror_mode": {
    "name": "ipython",
    "version": 3
   },
   "pygments_lexer": "ipython3",
   "nbconvert_exporter": "python",
   "file_extension": ".py"
  },
  "kaggle": {
   "accelerator": "none",
   "dataSources": [
    {
     "sourceId": 9694078,
     "sourceType": "datasetVersion",
     "datasetId": 5923501
    }
   ],
   "dockerImageVersionId": 30786,
   "isInternetEnabled": true,
   "language": "python",
   "sourceType": "notebook",
   "isGpuEnabled": false
  }
 },
 "nbformat_minor": 4,
 "nbformat": 4,
 "cells": [
  {
   "cell_type": "code",
   "source": "import os ",
   "metadata": {
    "execution": {
     "iopub.status.busy": "2024-10-22T15:24:07.685915Z",
     "iopub.execute_input": "2024-10-22T15:24:07.686945Z",
     "iopub.status.idle": "2024-10-22T15:24:07.714517Z",
     "shell.execute_reply.started": "2024-10-22T15:24:07.686897Z",
     "shell.execute_reply": "2024-10-22T15:24:07.713285Z"
    },
    "trusted": true
   },
   "outputs": [],
   "execution_count": null
  },
  {
   "cell_type": "code",
   "source": "train_path = '/kaggle/input/nlp-lab/train_embeddings.tsv'\ntest_path = '/kaggle/input/nlp-lab/test_embeddings.tsv'",
   "metadata": {
    "execution": {
     "iopub.status.busy": "2024-10-22T15:24:07.716280Z",
     "iopub.execute_input": "2024-10-22T15:24:07.716677Z",
     "iopub.status.idle": "2024-10-22T15:24:07.721597Z",
     "shell.execute_reply.started": "2024-10-22T15:24:07.716637Z",
     "shell.execute_reply": "2024-10-22T15:24:07.720469Z"
    },
    "trusted": true
   },
   "outputs": [],
   "execution_count": null
  },
  {
   "cell_type": "code",
   "source": "path_foldes = '/kaggle/input/nlp-lab/20news-bydate/20news-bydate'\n\nlabels = os.listdir(path_foldes)\nfor catalog in labels:\n    include_catalog = os.listdir(os.path.join(path_foldes, catalog))\n    for file in include_catalog:\n        if os.path.isdir(os.path.join(path_foldes, f'{catalog}/{file}')):\n            labels.append(f'{catalog}/{file}')",
   "metadata": {
    "execution": {
     "iopub.status.busy": "2024-10-22T15:24:52.715450Z",
     "iopub.execute_input": "2024-10-22T15:24:52.715896Z",
     "iopub.status.idle": "2024-10-22T15:24:57.074739Z",
     "shell.execute_reply.started": "2024-10-22T15:24:52.715855Z",
     "shell.execute_reply": "2024-10-22T15:24:57.073623Z"
    },
    "trusted": true
   },
   "outputs": [],
   "execution_count": null
  },
  {
   "cell_type": "code",
   "source": "def dataloader(filepath):\n    x = list()\n    y = list()\n    with open(filepath) as f:\n        lines = f.readlines()\n        for line in lines:\n            split_data = line.split()\n            class_label = split_data[0].split('/')[0]\n            x_data = list(map(float, split_data[1:]))\n            \n            x.append(x_data)\n            y.append(class_label)\n    return x, y",
   "metadata": {
    "execution": {
     "iopub.status.busy": "2024-10-22T15:24:59.623968Z",
     "iopub.execute_input": "2024-10-22T15:24:59.624428Z",
     "iopub.status.idle": "2024-10-22T15:24:59.632688Z",
     "shell.execute_reply.started": "2024-10-22T15:24:59.624386Z",
     "shell.execute_reply": "2024-10-22T15:24:59.631256Z"
    },
    "trusted": true
   },
   "outputs": [],
   "execution_count": null
  },
  {
   "cell_type": "code",
   "source": "X_train, y_train = dataloader(train_path)\nX_test, y_test = dataloader(test_path)",
   "metadata": {
    "execution": {
     "iopub.status.busy": "2024-10-22T15:25:05.795130Z",
     "iopub.execute_input": "2024-10-22T15:25:05.795581Z",
     "iopub.status.idle": "2024-10-22T15:25:07.245360Z",
     "shell.execute_reply.started": "2024-10-22T15:25:05.795538Z",
     "shell.execute_reply": "2024-10-22T15:25:07.244261Z"
    },
    "trusted": true
   },
   "outputs": [],
   "execution_count": null
  },
  {
   "cell_type": "code",
   "source": "len(set(y_train))",
   "metadata": {
    "execution": {
     "iopub.status.busy": "2024-10-22T15:25:08.609108Z",
     "iopub.execute_input": "2024-10-22T15:25:08.609548Z",
     "iopub.status.idle": "2024-10-22T15:25:08.618570Z",
     "shell.execute_reply.started": "2024-10-22T15:25:08.609506Z",
     "shell.execute_reply": "2024-10-22T15:25:08.617411Z"
    },
    "trusted": true
   },
   "outputs": [],
   "execution_count": null
  },
  {
   "cell_type": "code",
   "source": "encode = {}\ncount = 0 \nfor label in set(y_train):\n    encode[label] = count\n    count += 1",
   "metadata": {
    "execution": {
     "iopub.status.busy": "2024-10-22T15:25:08.895222Z",
     "iopub.execute_input": "2024-10-22T15:25:08.895681Z",
     "iopub.status.idle": "2024-10-22T15:25:08.901993Z",
     "shell.execute_reply.started": "2024-10-22T15:25:08.895639Z",
     "shell.execute_reply": "2024-10-22T15:25:08.900697Z"
    },
    "trusted": true
   },
   "outputs": [],
   "execution_count": null
  },
  {
   "cell_type": "code",
   "source": "Y_train = []\nfor label in y_train:\n    if label in encode.keys():\n            Y_train.append(encode[label])\ny_train = Y_train",
   "metadata": {
    "execution": {
     "iopub.status.busy": "2024-10-22T15:25:09.143789Z",
     "iopub.execute_input": "2024-10-22T15:25:09.144259Z",
     "iopub.status.idle": "2024-10-22T15:25:09.155855Z",
     "shell.execute_reply.started": "2024-10-22T15:25:09.144214Z",
     "shell.execute_reply": "2024-10-22T15:25:09.154551Z"
    },
    "trusted": true
   },
   "outputs": [],
   "execution_count": null
  },
  {
   "cell_type": "code",
   "source": "Y_test = []\nfor label in y_test:\n    if label in encode.keys():\n            Y_test.append(encode[label])\ny_test = Y_test",
   "metadata": {
    "execution": {
     "iopub.status.busy": "2024-10-22T15:25:09.383391Z",
     "iopub.execute_input": "2024-10-22T15:25:09.383814Z",
     "iopub.status.idle": "2024-10-22T15:25:09.394548Z",
     "shell.execute_reply.started": "2024-10-22T15:25:09.383775Z",
     "shell.execute_reply": "2024-10-22T15:25:09.393231Z"
    },
    "trusted": true
   },
   "outputs": [],
   "execution_count": null
  },
  {
   "cell_type": "code",
   "source": "import numpy as np\nfrom tqdm import tqdm",
   "metadata": {
    "execution": {
     "iopub.status.busy": "2024-10-22T15:25:09.607350Z",
     "iopub.execute_input": "2024-10-22T15:25:09.607754Z",
     "iopub.status.idle": "2024-10-22T15:25:09.618910Z",
     "shell.execute_reply.started": "2024-10-22T15:25:09.607717Z",
     "shell.execute_reply": "2024-10-22T15:25:09.617705Z"
    },
    "trusted": true
   },
   "outputs": [],
   "execution_count": null
  },
  {
   "cell_type": "code",
   "source": "from sklearn import svm\nimport time\nimport torch\nimport torch.nn as nn\nimport torch.optim as optim\nfrom torch.utils.data import TensorDataset, DataLoader",
   "metadata": {
    "execution": {
     "iopub.status.busy": "2024-10-22T15:25:09.835583Z",
     "iopub.execute_input": "2024-10-22T15:25:09.836059Z",
     "iopub.status.idle": "2024-10-22T15:25:13.688935Z",
     "shell.execute_reply.started": "2024-10-22T15:25:09.835984Z",
     "shell.execute_reply": "2024-10-22T15:25:13.687696Z"
    },
    "trusted": true
   },
   "outputs": [],
   "execution_count": null
  },
  {
   "cell_type": "code",
   "source": "class MLPModel(nn.Module):\n    def __init__(self, input_size, hidden_size1, hidden_size2, output_size):\n        super(MLPModel, self).__init__()\n        self.fc1 = nn.Linear(input_size, hidden_size1)\n        self.relu1 = nn.ReLU()\n        self.fc2 = nn.Linear(hidden_size1, hidden_size2)\n        self.relu2 = nn.ReLU()\n        self.fc3 = nn.Linear(hidden_size2, output_size)\n\n    def forward(self, x):\n        x = self.fc1(x)\n        x = self.relu1(x)\n        x = self.fc2(x)\n        x = self.relu2(x)\n        x = self.fc3(x)\n        return x\n",
   "metadata": {
    "execution": {
     "iopub.status.busy": "2024-10-22T15:25:13.691137Z",
     "iopub.execute_input": "2024-10-22T15:25:13.691687Z",
     "iopub.status.idle": "2024-10-22T15:25:13.700849Z",
     "shell.execute_reply.started": "2024-10-22T15:25:13.691644Z",
     "shell.execute_reply": "2024-10-22T15:25:13.699596Z"
    },
    "trusted": true
   },
   "outputs": [],
   "execution_count": null
  },
  {
   "cell_type": "code",
   "source": "def fit_MLP(model, X, y, epochs):\n\n    start_time = time.time()\n\n    criterion = nn.CrossEntropyLoss()\n    optimizer = optim.Adam(model.parameters(), lr=0.001)\n\n    x_train_tensor = torch.Tensor(X)\n    y_train_tensor = torch.LongTensor(y)\n\n    dataset = TensorDataset(x_train_tensor, y_train_tensor)\n    dataloader = DataLoader(dataset, batch_size=64, shuffle=True)\n    for epoch in range(epochs):\n        for inputs, labels in dataloader:\n            optimizer.zero_grad()\n            outputs = model(inputs)\n            loss = criterion(outputs, labels)\n            loss.backward()\n            optimizer.step()\n\n        #print(f'Epoch [{epoch+1}/{epochs}], Loss: {loss.item()}')\n    return model, time.time() - start_time\n\ndef eval_MLP(model, X):\n    answer = list()\n    for item in tqdm(X, desc = \"Evaluation\"):\n        model.eval()\n        with torch.no_grad():\n            y_pred = model(torch.Tensor(item))\n            answer.append(torch.argmax(y_pred).item())\n    return answer\n",
   "metadata": {
    "execution": {
     "iopub.status.busy": "2024-10-22T15:25:13.702454Z",
     "iopub.execute_input": "2024-10-22T15:25:13.702949Z",
     "iopub.status.idle": "2024-10-22T15:25:13.718292Z",
     "shell.execute_reply.started": "2024-10-22T15:25:13.702895Z",
     "shell.execute_reply": "2024-10-22T15:25:13.716880Z"
    },
    "trusted": true
   },
   "outputs": [],
   "execution_count": null
  },
  {
   "cell_type": "code",
   "source": "model = svm.SVC(kernel='linear')\n\nmodel_poly = svm.SVC(kernel='poly', degree=3)\n\nmodel_rbf = svm.SVC(kernel='rbf')",
   "metadata": {
    "execution": {
     "iopub.status.busy": "2024-10-22T15:25:13.721394Z",
     "iopub.execute_input": "2024-10-22T15:25:13.721841Z",
     "iopub.status.idle": "2024-10-22T15:25:13.730348Z",
     "shell.execute_reply.started": "2024-10-22T15:25:13.721799Z",
     "shell.execute_reply": "2024-10-22T15:25:13.729122Z"
    },
    "trusted": true
   },
   "outputs": [],
   "execution_count": null
  },
  {
   "cell_type": "code",
   "source": "start_time = time.time()\nmodel.fit(X_train, y_train)\ntraining_time = time.time() - start_time",
   "metadata": {
    "execution": {
     "iopub.status.busy": "2024-10-22T15:25:13.731957Z",
     "iopub.execute_input": "2024-10-22T15:25:13.732530Z",
     "iopub.status.idle": "2024-10-22T15:25:16.422790Z",
     "shell.execute_reply.started": "2024-10-22T15:25:13.732487Z",
     "shell.execute_reply": "2024-10-22T15:25:16.421779Z"
    },
    "trusted": true
   },
   "outputs": [],
   "execution_count": null
  },
  {
   "cell_type": "code",
   "source": "y_pred = model.predict(X_test)",
   "metadata": {
    "execution": {
     "iopub.status.busy": "2024-10-22T15:25:16.424135Z",
     "iopub.execute_input": "2024-10-22T15:25:16.424516Z",
     "iopub.status.idle": "2024-10-22T15:25:20.200271Z",
     "shell.execute_reply.started": "2024-10-22T15:25:16.424476Z",
     "shell.execute_reply": "2024-10-22T15:25:20.199088Z"
    },
    "trusted": true
   },
   "outputs": [],
   "execution_count": null
  },
  {
   "cell_type": "code",
   "source": "from collections import defaultdict\nimport numpy as np\n\ndef metrics_multiclass(true_labels, predicted_labels):\n    true_positive = defaultdict(int)\n    false_positive = defaultdict(int)\n    false_negative = defaultdict(int)\n    true_negative = defaultdict(int)\n\n    unique_classes = set(true_labels) | set(predicted_labels)\n    for cls in unique_classes:\n        for t, p in zip(true_labels, predicted_labels):\n            if t == cls and p == cls:\n                true_positive[cls] += 1\n            elif t == cls and p != cls:\n                false_negative[cls] += 1\n            elif t != cls and p == cls:\n                false_positive[cls] += 1\n            elif t != cls and p != cls:\n                true_negative[cls] += 1\n\n    precision = {}\n    recall = {}\n    f1_score = {}\n    correct_predictions = 0\n\n    for cls in unique_classes:\n        precision[cls] = (true_positive[cls] / (true_positive[cls] + false_positive[cls])) if (true_positive[cls] + false_positive[cls]) > 0 else 0\n        recall[cls] = (true_positive[cls] / (true_positive[cls] + false_negative[cls])) if (true_positive[cls] + false_negative[cls]) > 0 else 0\n        f1_score[cls] = (2 * precision[cls] * recall[cls] / (precision[cls] + recall[cls])) if (precision[cls] + recall[cls]) > 0 else 0\n        correct_predictions += true_positive[cls]\n\n    avg_precision = np.mean(list(precision.values()))\n    avg_recall = np.mean(list(recall.values()))\n    avg_f1_score = np.mean(list(f1_score.values()))\n    total_accuracy = correct_predictions / len(true_labels)\n\n    return avg_precision, avg_recall, avg_f1_score, total_accuracy",
   "metadata": {
    "execution": {
     "iopub.status.busy": "2024-10-22T15:25:20.201658Z",
     "iopub.execute_input": "2024-10-22T15:25:20.202095Z",
     "iopub.status.idle": "2024-10-22T15:25:20.216027Z",
     "shell.execute_reply.started": "2024-10-22T15:25:20.202024Z",
     "shell.execute_reply": "2024-10-22T15:25:20.214876Z"
    },
    "trusted": true
   },
   "outputs": [],
   "execution_count": null
  },
  {
   "cell_type": "code",
   "source": "avg_precision, avg_recall, avg_f1, accuracy = metrics_multiclass(y_test, y_pred)\nprint(\"Precision:\", avg_precision)\nprint(\"Recall:\", avg_recall)\nprint(\"F1 Score:\", avg_f1)\nprint(\"Total Accuracy:\", accuracy)\nprint(f\"Training-time: {training_time} sec\")",
   "metadata": {
    "execution": {
     "iopub.status.busy": "2024-10-22T15:25:20.217639Z",
     "iopub.execute_input": "2024-10-22T15:25:20.218133Z",
     "iopub.status.idle": "2024-10-22T15:25:20.348410Z",
     "shell.execute_reply.started": "2024-10-22T15:25:20.218077Z",
     "shell.execute_reply": "2024-10-22T15:25:20.347233Z"
    },
    "trusted": true
   },
   "outputs": [],
   "execution_count": null
  },
  {
   "cell_type": "code",
   "source": "start_time = time.time()\nmodel_poly.fit(X_train, y_train)\ntraining_time = time.time() - start_time",
   "metadata": {
    "execution": {
     "iopub.status.busy": "2024-10-22T15:25:20.349883Z",
     "iopub.execute_input": "2024-10-22T15:25:20.350293Z",
     "iopub.status.idle": "2024-10-22T15:25:24.743628Z",
     "shell.execute_reply.started": "2024-10-22T15:25:20.350251Z",
     "shell.execute_reply": "2024-10-22T15:25:24.742450Z"
    },
    "trusted": true
   },
   "outputs": [],
   "execution_count": null
  },
  {
   "cell_type": "code",
   "source": "y_pred = model_poly.predict(X_test)",
   "metadata": {
    "execution": {
     "iopub.status.busy": "2024-10-22T15:25:24.746696Z",
     "iopub.execute_input": "2024-10-22T15:25:24.747123Z",
     "iopub.status.idle": "2024-10-22T15:25:29.000623Z",
     "shell.execute_reply.started": "2024-10-22T15:25:24.747077Z",
     "shell.execute_reply": "2024-10-22T15:25:28.999322Z"
    },
    "trusted": true
   },
   "outputs": [],
   "execution_count": null
  },
  {
   "cell_type": "code",
   "source": "avg_precision, avg_recall, avg_f1, accuracy = metrics_multiclass(y_test, y_pred)\nprint(\"Precision:\", avg_precision)\nprint(\"Recall:\", avg_recall)\nprint(\"F1 Score:\", avg_f1)\nprint(\"Total Accuracy:\", accuracy)\nprint(f\"Training-time: {training_time} sec\")",
   "metadata": {
    "execution": {
     "iopub.status.busy": "2024-10-22T15:25:29.002286Z",
     "iopub.execute_input": "2024-10-22T15:25:29.002677Z",
     "iopub.status.idle": "2024-10-22T15:25:29.123930Z",
     "shell.execute_reply.started": "2024-10-22T15:25:29.002638Z",
     "shell.execute_reply": "2024-10-22T15:25:29.122681Z"
    },
    "trusted": true
   },
   "outputs": [],
   "execution_count": null
  },
  {
   "cell_type": "code",
   "source": "start_time = time.time()\nmodel_rbf.fit(X_train, y_train)\ntraining_time = time.time() - start_time",
   "metadata": {
    "execution": {
     "iopub.status.busy": "2024-10-22T15:25:30.811996Z",
     "iopub.execute_input": "2024-10-22T15:25:30.813150Z",
     "iopub.status.idle": "2024-10-22T15:25:34.899995Z",
     "shell.execute_reply.started": "2024-10-22T15:25:30.813099Z",
     "shell.execute_reply": "2024-10-22T15:25:34.898799Z"
    },
    "trusted": true
   },
   "outputs": [],
   "execution_count": null
  },
  {
   "cell_type": "code",
   "source": "y_pred = model_rbf.predict(X_test)",
   "metadata": {
    "execution": {
     "iopub.status.busy": "2024-10-22T15:25:34.902055Z",
     "iopub.execute_input": "2024-10-22T15:25:34.902477Z",
     "iopub.status.idle": "2024-10-22T15:25:42.538576Z",
     "shell.execute_reply.started": "2024-10-22T15:25:34.902437Z",
     "shell.execute_reply": "2024-10-22T15:25:42.537502Z"
    },
    "trusted": true
   },
   "outputs": [],
   "execution_count": null
  },
  {
   "cell_type": "code",
   "source": "avg_precision, avg_recall, avg_f1, accuracy = metrics_multiclass(y_test, y_pred)\nprint(\"Precision:\", avg_precision)\nprint(\"Recall:\", avg_recall)\nprint(\"F1 Score:\", avg_f1)\nprint(\"Total Accuracy:\", accuracy)\nprint(f\"Training-time: {training_time} sec\")",
   "metadata": {
    "execution": {
     "iopub.status.busy": "2024-10-22T15:25:42.540125Z",
     "iopub.execute_input": "2024-10-22T15:25:42.540611Z",
     "iopub.status.idle": "2024-10-22T15:25:42.666114Z",
     "shell.execute_reply.started": "2024-10-22T15:25:42.540550Z",
     "shell.execute_reply": "2024-10-22T15:25:42.664929Z"
    },
    "trusted": true
   },
   "outputs": [],
   "execution_count": null
  },
  {
   "cell_type": "code",
   "source": "input_size = np.array(X_train).shape[1]\noutput_size = len(set(y_train))\n\nhidden_size1 = 50\nhidden_size2 = 40\n\nnum_epochs = 100\n\nmodel_mlp = MLPModel(input_size, hidden_size1, hidden_size2, output_size)\nmlp, training_time = fit_MLP(model_mlp, X_train, y_train, 60)",
   "metadata": {
    "execution": {
     "iopub.status.busy": "2024-10-22T15:25:42.669454Z",
     "iopub.execute_input": "2024-10-22T15:25:42.670234Z",
     "iopub.status.idle": "2024-10-22T15:25:59.547530Z",
     "shell.execute_reply.started": "2024-10-22T15:25:42.670188Z",
     "shell.execute_reply": "2024-10-22T15:25:59.546454Z"
    },
    "trusted": true
   },
   "outputs": [],
   "execution_count": null
  },
  {
   "cell_type": "code",
   "source": "y_pred = eval_MLP(mlp, X_test)",
   "metadata": {
    "execution": {
     "iopub.status.busy": "2024-10-22T15:25:59.549484Z",
     "iopub.execute_input": "2024-10-22T15:25:59.550168Z",
     "iopub.status.idle": "2024-10-22T15:26:01.049484Z",
     "shell.execute_reply.started": "2024-10-22T15:25:59.550112Z",
     "shell.execute_reply": "2024-10-22T15:26:01.048190Z"
    },
    "trusted": true
   },
   "outputs": [],
   "execution_count": null
  },
  {
   "cell_type": "code",
   "source": "avg_precision, avg_recall, avg_f1, accuracy = metrics_multiclass(y_test, y_pred)\nprint(\"Precision:\", avg_precision)\nprint(\"Recall:\", avg_recall)\nprint(\"F1 Score:\", avg_f1)\nprint(\"Total Accuracy:\", accuracy)\nprint(f\"Training-time: {training_time} sec\")",
   "metadata": {
    "execution": {
     "iopub.status.busy": "2024-10-22T15:26:01.051205Z",
     "iopub.execute_input": "2024-10-22T15:26:01.051690Z",
     "iopub.status.idle": "2024-10-22T15:26:01.130383Z",
     "shell.execute_reply.started": "2024-10-22T15:26:01.051636Z",
     "shell.execute_reply": "2024-10-22T15:26:01.129196Z"
    },
    "trusted": true
   },
   "outputs": [],
   "execution_count": null
  },
  {
   "cell_type": "code",
   "source": "len(X_train)",
   "metadata": {
    "execution": {
     "iopub.status.busy": "2024-10-22T15:26:01.131836Z",
     "iopub.execute_input": "2024-10-22T15:26:01.132237Z",
     "iopub.status.idle": "2024-10-22T15:26:01.140892Z",
     "shell.execute_reply.started": "2024-10-22T15:26:01.132195Z",
     "shell.execute_reply": "2024-10-22T15:26:01.139673Z"
    },
    "trusted": true
   },
   "outputs": [],
   "execution_count": null
  },
  {
   "cell_type": "code",
   "source": "kernel = ['Linear', 'Poly', 'RBF']\nfor i, m in enumerate([model, model_poly, model_rbf]):\n    start_time = time.time()\n    m.fit(X_train[:8000], y_train[:8000])\n    training_time = time.time() - start_time\n    y_pred = m.predict(X_test)\n    avg_precision, avg_recall, avg_f1, accuracy = metrics_multiclass(y_test, y_pred)\n    print(f\"Model kernel: {kernel[i]}\")\n    print(\"Precision:\", avg_precision)\n    print(\"Recall:\", avg_recall)\n    print(\"F1 Score:\", avg_f1)\n    print(\"Total Accuracy:\", accuracy)\n    print(f\"Training-time: {training_time} sec\")\n    print(\"\")\n\ninput_size = np.array(X_train[:8000]).shape[1]\noutput_size = 20\n\nhidden_size1 = 50\nhidden_size2 = 40\n\nnum_epochs = 100\n\nmodel_mlp = MLPModel(input_size, hidden_size1, hidden_size2, output_size)\nmlp, training_time = fit_MLP(model_mlp, X_train[:8000], y_train[:8000], 60)\n\ny_pred = eval_MLP(mlp, X_test)\navg_precision, avg_recall, avg_f1, accuracy = metrics_multiclass(y_test, y_pred)\nprint()\nprint(\"Model: MLP\")\nprint(\"Precision:\", avg_precision)\nprint(\"Recall:\", avg_recall)\nprint(\"F1 Score:\", avg_f1)\nprint(\"Total Accuracy:\", accuracy)\nprint(f\"Training-time: {training_time} sec\")",
   "metadata": {
    "execution": {
     "iopub.status.busy": "2024-10-22T15:26:01.142735Z",
     "iopub.execute_input": "2024-10-22T15:26:01.143374Z",
     "iopub.status.idle": "2024-10-22T15:26:44.992536Z",
     "shell.execute_reply.started": "2024-10-22T15:26:01.143314Z",
     "shell.execute_reply": "2024-10-22T15:26:44.991408Z"
    },
    "trusted": true
   },
   "outputs": [],
   "execution_count": null
  },
  {
   "cell_type": "code",
   "source": "kernel = ['Linear', 'Poly', 'RBF']\nfor i, m in enumerate([model, model_poly, model_rbf]):\n    start_time = time.time()\n    m.fit(X_train[:4000], y_train[:4000])\n    training_time = time.time() - start_time\n    y_pred = m.predict(X_test)\n    avg_precision, avg_recall, avg_f1, accuracy = metrics_multiclass(y_test, y_pred)\n    print(f\"Model kernel: {kernel[i]}\")\n    print(\"Precision:\", avg_precision)\n    print(\"Recall:\", avg_recall)\n    print(\"F1 Score:\", avg_f1)\n    print(\"Total Accuracy:\", accuracy)\n    print(f\"Training-time: {training_time} sec\")\n    print(\"\")\n\ninput_size = np.array(X_train[:4000]).shape[1]\noutput_size = 20\n\nhidden_size1 = 50\nhidden_size2 = 40\n\nnum_epochs = 100\n\nmodel_mlp = MLPModel(input_size, hidden_size1, hidden_size2, output_size)\nmlp, training_time = fit_MLP(model_mlp, X_train[:4000], y_train[:4000], 60)\n\ny_pred = eval_MLP(mlp, X_test)\navg_precision, avg_recall, avg_f1, accuracy = metrics_multiclass(y_test, y_pred)\nprint()\nprint(\"Model: MLP\")\nprint(\"Precision:\", avg_precision)\nprint(\"Recall:\", avg_recall)\nprint(\"F1 Score:\", avg_f1)\nprint(\"Total Accuracy:\", accuracy)\nprint(f\"Training-time: {training_time} sec\")",
   "metadata": {
    "execution": {
     "iopub.status.busy": "2024-10-22T15:26:44.994422Z",
     "iopub.execute_input": "2024-10-22T15:26:44.994826Z",
     "iopub.status.idle": "2024-10-22T15:27:04.681484Z",
     "shell.execute_reply.started": "2024-10-22T15:26:44.994786Z",
     "shell.execute_reply": "2024-10-22T15:27:04.680235Z"
    },
    "trusted": true
   },
   "outputs": [],
   "execution_count": null
  },
  {
   "cell_type": "code",
   "source": "from sklearn.decomposition import PCA\n\npca = PCA(n_components=60)\npca.fit(X_train)",
   "metadata": {
    "execution": {
     "iopub.status.busy": "2024-10-22T15:27:04.684721Z",
     "iopub.execute_input": "2024-10-22T15:27:04.685164Z",
     "iopub.status.idle": "2024-10-22T15:27:06.323921Z",
     "shell.execute_reply.started": "2024-10-22T15:27:04.685119Z",
     "shell.execute_reply": "2024-10-22T15:27:06.322720Z"
    },
    "trusted": true
   },
   "outputs": [],
   "execution_count": null
  },
  {
   "cell_type": "code",
   "source": "kernel = ['Linear', 'Poly', 'RBF']\nfor i, m in enumerate([model, model_poly, model_rbf]):\n    start_time = time.time()\n    m.fit(pca.transform(X_train), y_train)\n    training_time = time.time() - start_time\n    y_pred = m.predict(pca.transform(X_test))\n    avg_precision, avg_recall, avg_f1, accuracy = metrics_multiclass(y_test, y_pred)\n    print(f\"Model kernel: {kernel[i]}\")\n    print(\"Precision:\", avg_precision)\n    print(\"Recall:\", avg_recall)\n    print(\"F1 Score:\", avg_f1)\n    print(\"Total Accuracy:\", accuracy)\n    print(f\"Training-time: {training_time} sec\")\n    print(\"\")\n\ninput_size = np.array(pca.transform(X_train)).shape[1]\noutput_size = 20\n\nhidden_size1 = 50\nhidden_size2 = 40\n\nnum_epochs = 100\n\nmodel_mlp = MLPModel(input_size, hidden_size1, hidden_size2, output_size)\nmlp, training_time = fit_MLP(model_mlp, pca.transform(X_train), y_train, 60)\n\ny_pred = eval_MLP(mlp, pca.transform(X_test))\navg_precision, avg_recall, avg_f1, accuracy = metrics_multiclass(y_test, y_pred)\nprint()\nprint(\"Model: MLP\")\nprint(\"Precision:\", avg_precision)\nprint(\"Recall:\", avg_recall)\nprint(\"F1 Score:\", avg_f1)\nprint(\"Total Accuracy:\", accuracy)\nprint(f\"Training-time: {training_time} sec\")",
   "metadata": {
    "execution": {
     "iopub.status.busy": "2024-10-22T15:27:06.325968Z",
     "iopub.execute_input": "2024-10-22T15:27:06.326524Z",
     "iopub.status.idle": "2024-10-22T15:27:49.363602Z",
     "shell.execute_reply.started": "2024-10-22T15:27:06.326465Z",
     "shell.execute_reply": "2024-10-22T15:27:49.362429Z"
    },
    "trusted": true
   },
   "outputs": [],
   "execution_count": null
  },
  {
   "cell_type": "code",
   "source": "pca = PCA(n_components=80)\npca.fit(X_train)",
   "metadata": {
    "execution": {
     "iopub.status.busy": "2024-10-22T15:27:49.366163Z",
     "iopub.execute_input": "2024-10-22T15:27:49.366578Z",
     "iopub.status.idle": "2024-10-22T15:27:49.566448Z",
     "shell.execute_reply.started": "2024-10-22T15:27:49.366536Z",
     "shell.execute_reply": "2024-10-22T15:27:49.565049Z"
    },
    "trusted": true
   },
   "outputs": [],
   "execution_count": null
  },
  {
   "cell_type": "code",
   "source": "kernel = ['Linear', 'Poly', 'RBF']\nfor i, m in enumerate([model, model_poly, model_rbf]):\n    start_time = time.time()\n    m.fit(pca.transform(X_train), y_train)\n    training_time = time.time() - start_time\n    y_pred = m.predict(pca.transform(X_test))\n    avg_precision, avg_recall, avg_f1, accuracy = metrics_multiclass(y_test, y_pred)\n    print(f\"Model kernel: {kernel[i]}\")\n    print(\"Precision:\", avg_precision)\n    print(\"Recall:\", avg_recall)\n    print(\"F1 Score:\", avg_f1)\n    print(\"Total Accuracy:\", accuracy)\n    print(f\"Training-time: {training_time} sec\")\n    print(\"\")\n\ninput_size = np.array(pca.transform(X_train)).shape[1]\noutput_size = 20\n\nhidden_size1 = 50\nhidden_size2 = 40\n\nnum_epochs = 100\n\nmodel_mlp = MLPModel(input_size, hidden_size1, hidden_size2, output_size)\nmlp, training_time = fit_MLP(model_mlp, pca.transform(X_train), y_train, 60)\n\ny_pred = eval_MLP(mlp, pca.transform(X_test))\navg_precision, avg_recall, avg_f1, accuracy = metrics_multiclass(y_test, y_pred)\nprint()\nprint(\"Model: MLP\")\nprint(\"Precision:\", avg_precision)\nprint(\"Recall:\", avg_recall)\nprint(\"F1 Score:\", avg_f1)\nprint(\"Total Accuracy:\", accuracy)\nprint(f\"Training-time: {training_time} sec\")",
   "metadata": {
    "execution": {
     "iopub.status.busy": "2024-10-22T15:27:49.568149Z",
     "iopub.execute_input": "2024-10-22T15:27:49.568595Z",
     "iopub.status.idle": "2024-10-22T15:28:30.306904Z",
     "shell.execute_reply.started": "2024-10-22T15:27:49.568547Z",
     "shell.execute_reply": "2024-10-22T15:28:30.305825Z"
    },
    "trusted": true
   },
   "outputs": [],
   "execution_count": null
  },
  {
   "cell_type": "code",
   "source": "np.array(X_train).shape",
   "metadata": {
    "execution": {
     "iopub.status.busy": "2024-10-22T15:28:30.308228Z",
     "iopub.execute_input": "2024-10-22T15:28:30.308578Z",
     "iopub.status.idle": "2024-10-22T15:28:30.380697Z",
     "shell.execute_reply.started": "2024-10-22T15:28:30.308541Z",
     "shell.execute_reply": "2024-10-22T15:28:30.379472Z"
    },
    "trusted": true
   },
   "outputs": [],
   "execution_count": null
  },
  {
   "cell_type": "code",
   "source": "x_train_ext = np.concatenate((X_train, np.sin(X_train), np.cos(X_train)), axis=1)\nx_test_ext = np.concatenate((X_test, np.sin(X_test), np.cos(X_test)), axis=1)",
   "metadata": {
    "execution": {
     "iopub.status.busy": "2024-10-22T15:28:30.382066Z",
     "iopub.execute_input": "2024-10-22T15:28:30.382464Z",
     "iopub.status.idle": "2024-10-22T15:28:30.838134Z",
     "shell.execute_reply.started": "2024-10-22T15:28:30.382424Z",
     "shell.execute_reply": "2024-10-22T15:28:30.836956Z"
    },
    "trusted": true
   },
   "outputs": [],
   "execution_count": null
  },
  {
   "cell_type": "code",
   "source": "kernel = ['Linear', 'Poly', 'RBF']\nfor i, m in enumerate([model, model_poly, model_rbf]):\n    start_time = time.time()\n    m.fit(x_train_ext, y_train)\n    training_time = time.time() - start_time\n    y_pred = m.predict(x_test_ext)\n    avg_precision, avg_recall, avg_f1, accuracy = metrics_multiclass(y_test, y_pred)\n    print(f\"Model kernel: {kernel[i]}\")\n    print(\"Precision:\", avg_precision)\n    print(\"Recall:\", avg_recall)\n    print(\"F1 Score:\", avg_f1)\n    print(\"Total Accuracy:\", accuracy)\n    print(f\"Training-time: {training_time} sec\")\n    print(\"\")\n\ninput_size = np.array(x_train_ext).shape[1]\noutput_size = 20\n\nhidden_size1 = 50\nhidden_size2 = 40\n\nnum_epochs = 100\n\nmodel_mlp = MLPModel(input_size, hidden_size1, hidden_size2, output_size)\nmlp, training_time = fit_MLP(model_mlp, x_train_ext, y_train, 60)\n\ny_pred = eval_MLP(mlp, x_test_ext)\navg_precision, avg_recall, avg_f1, accuracy = metrics_multiclass(y_test, y_pred)\nprint()\nprint(\"Model: MLP\")\nprint(\"Precision:\", avg_precision)\nprint(\"Recall:\", avg_recall)\nprint(\"F1 Score:\", avg_f1)\nprint(\"Total Accuracy:\", accuracy)\nprint(f\"Training-time: {training_time} sec\")",
   "metadata": {
    "execution": {
     "iopub.status.busy": "2024-10-22T15:28:30.840822Z",
     "iopub.execute_input": "2024-10-22T15:28:30.841277Z",
     "iopub.status.idle": "2024-10-22T15:30:02.667702Z",
     "shell.execute_reply.started": "2024-10-22T15:28:30.841223Z",
     "shell.execute_reply": "2024-10-22T15:30:02.666479Z"
    },
    "trusted": true
   },
   "outputs": [],
   "execution_count": null
  },
  {
   "cell_type": "code",
   "source": "",
   "metadata": {},
   "outputs": [],
   "execution_count": null
  },
  {
   "cell_type": "code",
   "source": "",
   "metadata": {},
   "outputs": [],
   "execution_count": null
  }
 ]
}
