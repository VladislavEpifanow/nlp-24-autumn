{
 "metadata": {
  "kernelspec": {
   "name": "python3",
   "display_name": "Python 3",
   "language": "python"
  },
  "language_info": {
   "name": "python",
   "version": "3.10.14",
   "mimetype": "text/x-python",
   "codemirror_mode": {
    "name": "ipython",
    "version": 3
   },
   "pygments_lexer": "ipython3",
   "nbconvert_exporter": "python",
   "file_extension": ".py"
  },
  "kaggle": {
   "accelerator": "nvidiaTeslaT4",
   "dataSources": [
    {
     "sourceId": 9694078,
     "sourceType": "datasetVersion",
     "datasetId": 5923501
    }
   ],
   "dockerImageVersionId": 30787,
   "isInternetEnabled": true,
   "language": "python",
   "sourceType": "notebook",
   "isGpuEnabled": true
  }
 },
 "nbformat_minor": 4,
 "nbformat": 4,
 "cells": [
  {
   "metadata": {},
   "cell_type": "markdown",
   "source": "# **Lab5**"
  },
  {
   "cell_type": "code",
   "source": "import re\nimport os\nfrom tqdm import tqdm",
   "metadata": {
    "execution": {
     "iopub.status.busy": "2024-10-31T08:27:28.130821Z",
     "iopub.execute_input": "2024-10-31T08:27:28.131569Z",
     "iopub.status.idle": "2024-10-31T08:27:28.144309Z",
     "shell.execute_reply.started": "2024-10-31T08:27:28.131528Z",
     "shell.execute_reply": "2024-10-31T08:27:28.143436Z"
    },
    "trusted": true
   },
   "outputs": [],
   "execution_count": null
  },
  {
   "cell_type": "code",
   "source": "def split_into_fragments(text, frag_length=100):\n    fragments = []\n    for i in range(0, len(text), frag_length):\n        cur_text = text[i:i+frag_length]\n        if len(cur_text) == 100:\n            fragments.append(cur_text)\n    return fragments",
   "metadata": {
    "execution": {
     "iopub.status.busy": "2024-10-31T08:27:28.149523Z",
     "iopub.execute_input": "2024-10-31T08:27:28.149807Z",
     "iopub.status.idle": "2024-10-31T08:27:28.154932Z",
     "shell.execute_reply.started": "2024-10-31T08:27:28.149776Z",
     "shell.execute_reply": "2024-10-31T08:27:28.154090Z"
    },
    "trusted": true
   },
   "outputs": [],
   "execution_count": null
  },
  {
   "cell_type": "code",
   "source": "filepath = '/kaggle/input/nlp-lab/20news-bydate/20news-bydate/20news-bydate-train/alt.atheism/51227'\nwith open(filepath, 'r', encoding='latin1') as file_name:\n    text = file_name.read()\n    print(split_into_fragments(text))",
   "metadata": {
    "execution": {
     "iopub.status.busy": "2024-10-31T08:27:28.245481Z",
     "iopub.execute_input": "2024-10-31T08:27:28.245789Z",
     "iopub.status.idle": "2024-10-31T08:27:28.269894Z",
     "shell.execute_reply.started": "2024-10-31T08:27:28.245757Z",
     "shell.execute_reply": "2024-10-31T08:27:28.269051Z"
    },
    "trusted": true
   },
   "outputs": [],
   "execution_count": null
  },
  {
   "cell_type": "code",
   "source": "def find_author(text):\n    match = re.search(r'From:(.*?)(?=\\w+:|$)', text, re.DOTALL)\n    if match:\n        result = match.group(1).strip()\n        return result\n    else:\n        return None",
   "metadata": {
    "execution": {
     "iopub.status.busy": "2024-10-31T08:27:28.271689Z",
     "iopub.execute_input": "2024-10-31T08:27:28.272269Z",
     "iopub.status.idle": "2024-10-31T08:27:28.277054Z",
     "shell.execute_reply.started": "2024-10-31T08:27:28.272225Z",
     "shell.execute_reply": "2024-10-31T08:27:28.276253Z"
    },
    "trusted": true
   },
   "outputs": [],
   "execution_count": null
  },
  {
   "cell_type": "code",
   "source": "\nwith open(filepath, 'r', encoding='latin1') as file_name:\n    text = file_name.read()\n    print(find_author(text))",
   "metadata": {
    "execution": {
     "iopub.status.busy": "2024-10-31T08:27:28.278048Z",
     "iopub.execute_input": "2024-10-31T08:27:28.278324Z",
     "iopub.status.idle": "2024-10-31T08:27:28.287249Z",
     "shell.execute_reply.started": "2024-10-31T08:27:28.278294Z",
     "shell.execute_reply": "2024-10-31T08:27:28.286343Z"
    },
    "trusted": true
   },
   "outputs": [],
   "execution_count": null
  },
  {
   "cell_type": "code",
   "source": "def processing_dataset(dataset_path, len = 100):\n    all_fragments = list()\n    all_metadata = list()\n    catalogs = os.listdir(dataset_path)\n    for catalog in tqdm(catalogs):\n        path_catalog = os.path.join(f'{dataset_path}/{catalog}')\n        files = os.listdir(path_catalog)\n        for file in files:\n            file_path = os.path.join(f'{path_catalog}/{file}')\n            with open(file_path, 'r', encoding='latin1') as file_name:\n                sample_content = file_name.read()\n                cleaned_text = sample_content.replace('\\t', ' ').replace('\\n', ' ')\n                cleaned_text = re.sub(r'\\s+', ' ', cleaned_text)\n                fragments = split_into_fragments(cleaned_text)\n                author = find_author(sample_content)\n                count = 0\n                for fragment in fragments:\n                    meta_fragment = {'class': path_catalog.split('/')[-1],\n                                     'doc_fragment': f'{file}-{count}',\n                                     'author': author}\n                    all_metadata.append(meta_fragment)\n                    all_fragments.append(fragment)\n                    count += 1\n    return all_fragments, all_metadata",
   "metadata": {
    "execution": {
     "iopub.status.busy": "2024-10-31T08:27:28.288326Z",
     "iopub.execute_input": "2024-10-31T08:27:28.288618Z",
     "iopub.status.idle": "2024-10-31T08:27:28.297056Z",
     "shell.execute_reply.started": "2024-10-31T08:27:28.288575Z",
     "shell.execute_reply": "2024-10-31T08:27:28.296258Z"
    },
    "trusted": true
   },
   "outputs": [],
   "execution_count": null
  },
  {
   "cell_type": "code",
   "source": "data_path = '/kaggle/input/nlp-lab/20news-bydate/20news-bydate/20news-bydate-train'\nall_fragments, all_metadata = processing_dataset(data_path)",
   "metadata": {
    "execution": {
     "iopub.status.busy": "2024-10-31T08:27:28.298848Z",
     "iopub.execute_input": "2024-10-31T08:27:28.299115Z",
     "iopub.status.idle": "2024-10-31T08:27:57.914617Z",
     "shell.execute_reply.started": "2024-10-31T08:27:28.299085Z",
     "shell.execute_reply": "2024-10-31T08:27:57.913732Z"
    },
    "trusted": true
   },
   "outputs": [],
   "execution_count": null
  },
  {
   "cell_type": "code",
   "source": "all_metadata",
   "metadata": {
    "execution": {
     "iopub.status.busy": "2024-10-31T08:27:57.915942Z",
     "iopub.execute_input": "2024-10-31T08:27:57.916271Z",
     "iopub.status.idle": "2024-10-31T08:27:58.051491Z",
     "shell.execute_reply.started": "2024-10-31T08:27:57.916231Z",
     "shell.execute_reply": "2024-10-31T08:27:58.050592Z"
    },
    "trusted": true
   },
   "outputs": [],
   "execution_count": null
  },
  {
   "cell_type": "code",
   "source": "from sentence_transformers import SentenceTransformer\n\nclass Embedder():\n    def __init__(self):\n        self.model = SentenceTransformer('sentence-transformers/paraphrase-multilingual-mpnet-base-v2')\n    \n    def __call__(self, input):\n        input = self.model.encode(input).tolist()\n        return input\n    \nembedder = Embedder()",
   "metadata": {
    "execution": {
     "iopub.status.busy": "2024-10-31T08:28:11.467018Z",
     "iopub.execute_input": "2024-10-31T08:28:11.467386Z",
     "iopub.status.idle": "2024-10-31T08:28:43.824049Z",
     "shell.execute_reply.started": "2024-10-31T08:28:11.467348Z",
     "shell.execute_reply": "2024-10-31T08:28:43.823235Z"
    },
    "trusted": true
   },
   "outputs": [],
   "execution_count": null
  },
  {
   "cell_type": "code",
   "source": "import chromadb\n\n\n\nclass ChromaDB():\n    def __init__(self):\n        self.embedding_model = Embedder()\n        self.client = chromadb.PersistentClient(path='/kaggle/working/ChromaDB')\n        self.collection = self.client.get_or_create_collection(name=\"colls\", embedding_function=self.embedding_model)\n\n    def add_collection(self, all_fragments, all_metadata):\n        o_b = 0\n        b = 5000\n        ids = [str(i) for i in range(len(all_metadata))]\n        while True:\n            if b > len(all_fragments):\n                break\n            else:\n                self.collection.add(\n                    documents = all_fragments[o_b:b],\n                    embeddings = self.embedding_model(all_fragments[o_b:b]),\n                    metadatas = all_metadata[o_b:b],\n                    ids=ids[o_b:b]\n                )\n                o_b = b\n                b += 5000\n\n        self.collection.add(\n                    documents = all_fragments[o_b:b],\n                    embeddings = self.embedding_model(all_fragments[o_b:]),\n                    metadatas = all_metadata[o_b:],\n                    ids=ids[o_b:]\n                )\n        print(\"loaded\")\n\n    def search(self, text, count = 1):\n        vector = self.embedding_model(text)\n        result = self.collection.query(\n            query_embeddings = vector,\n            n_results = count,\n            include=['distances','embeddings', 'documents', 'metadatas'],\n        )\n        return result\n        ",
   "metadata": {
    "execution": {
     "iopub.status.busy": "2024-10-31T08:29:17.194860Z",
     "iopub.execute_input": "2024-10-31T08:29:17.195222Z",
     "iopub.status.idle": "2024-10-31T08:29:18.684588Z",
     "shell.execute_reply.started": "2024-10-31T08:29:17.195170Z",
     "shell.execute_reply": "2024-10-31T08:29:18.683780Z"
    },
    "trusted": true
   },
   "outputs": [],
   "execution_count": null
  },
  {
   "cell_type": "code",
   "source": "cdb = ChromaDB()",
   "metadata": {
    "execution": {
     "iopub.status.busy": "2024-10-31T08:29:18.685663Z",
     "iopub.execute_input": "2024-10-31T08:29:18.685936Z",
     "iopub.status.idle": "2024-10-31T08:29:21.960322Z",
     "shell.execute_reply.started": "2024-10-31T08:29:18.685906Z",
     "shell.execute_reply": "2024-10-31T08:29:21.959534Z"
    },
    "trusted": true
   },
   "outputs": [],
   "execution_count": null
  },
  {
   "cell_type": "code",
   "source": "cdb.add_collection(all_fragments, all_metadata)",
   "metadata": {
    "jupyter": {
     "is_executing": true
    },
    "execution": {
     "iopub.status.busy": "2024-10-31T08:29:21.961344Z",
     "iopub.execute_input": "2024-10-31T08:29:21.961657Z",
     "iopub.status.idle": "2024-10-31T08:45:48.442015Z",
     "shell.execute_reply.started": "2024-10-31T08:29:21.961623Z",
     "shell.execute_reply": "2024-10-31T08:45:48.441035Z"
    },
    "trusted": true
   },
   "outputs": [],
   "execution_count": null
  },
  {
   "cell_type": "code",
   "source": "questions = [\n    ['What ary you thinking about Christ?', 2],\n    ['What is your favorite color?', 1],\n    ['Where is your favorite car?', 1],\n    ['What do you think about religion?', 3],\n    ['What is your major?', 4],\n    ['where should I go for the weekend?', 1]\n]\ncount = 0\nfor question in questions:\n    result = cdb.search(question[0], question[1])\n    #print(f\"-----------Вопрос №{count}-----------\")\n    print(f\"Вопрос: {question[0]}\")\n    print(f\"Ответы: {result['documents']}\")\n    print()\n    count +=1",
   "metadata": {
    "execution": {
     "iopub.status.busy": "2024-10-31T08:45:48.443616Z",
     "iopub.execute_input": "2024-10-31T08:45:48.443950Z",
     "iopub.status.idle": "2024-10-31T08:46:06.318669Z",
     "shell.execute_reply.started": "2024-10-31T08:45:48.443915Z",
     "shell.execute_reply": "2024-10-31T08:46:06.317763Z"
    },
    "trusted": true
   },
   "outputs": [],
   "execution_count": null
  },
  {
   "cell_type": "markdown",
   "source": "# **Lab6**",
   "metadata": {}
  },
  {
   "cell_type": "code",
   "source": "from ctransformers import AutoModelForCausalLM\nllm = AutoModelForCausalLM.from_pretrained(\"TheBloke/Mistral-7B-OpenOrca-GGUF\", model_file=\"mistral-7b-openorca.Q4_K_M.gguf\", model_type=\"mistral\", gpu_layers=50)",
   "metadata": {
    "execution": {
     "iopub.status.busy": "2024-10-31T08:46:18.612058Z",
     "iopub.execute_input": "2024-10-31T08:46:18.612941Z",
     "iopub.status.idle": "2024-10-31T08:47:14.277093Z",
     "shell.execute_reply.started": "2024-10-31T08:46:18.612890Z",
     "shell.execute_reply": "2024-10-31T08:47:14.276255Z"
    },
    "trusted": true
   },
   "outputs": [],
   "execution_count": null
  },
  {
   "cell_type": "code",
   "source": "from evaluate import load\nbertscore = load(\"bertscore\")",
   "metadata": {
    "execution": {
     "iopub.status.busy": "2024-10-31T08:48:29.662949Z",
     "iopub.execute_input": "2024-10-31T08:48:29.663419Z",
     "iopub.status.idle": "2024-10-31T08:48:30.254420Z",
     "shell.execute_reply.started": "2024-10-31T08:48:29.663363Z",
     "shell.execute_reply": "2024-10-31T08:48:30.253590Z"
    },
    "trusted": true
   },
   "outputs": [],
   "execution_count": null
  },
  {
   "cell_type": "code",
   "source": "def echo(message, history):\n    result = cdb.search(message, 1)\n    promt = f\"Context: {result['documents'][0][0]}.\" + f\"Question: {message}\"\n    answer = llm(promt)\n    metric = bertscore.compute(predictions=result['documents'][0], references=[message], model_type=\"distilbert-base-uncased\")\n    return f\"{answer}\" +f\"\\n\\nPrecision: {metric['precision'][0]}\" + f\"\\nRecall: {metric['recall'][0]}\"",
   "metadata": {
    "execution": {
     "iopub.status.busy": "2024-10-31T08:48:33.143015Z",
     "iopub.execute_input": "2024-10-31T08:48:33.143432Z",
     "iopub.status.idle": "2024-10-31T08:48:33.149174Z",
     "shell.execute_reply.started": "2024-10-31T08:48:33.143394Z",
     "shell.execute_reply": "2024-10-31T08:48:33.148166Z"
    },
    "trusted": true
   },
   "outputs": [],
   "execution_count": null
  },
  {
   "cell_type": "code",
   "source": "import gradio as gr\n\nex = ['What ary you thinking about Christ?', 'What is your favorite color?', 'What is your favorite car?', 'where should I go for the weekend?']\ndemo = gr.ChatInterface(fn=echo, examples=ex, title=\"Echo Bot\")\ndemo.launch(share=True)",
   "metadata": {
    "execution": {
     "iopub.status.busy": "2024-10-31T08:48:52.734163Z",
     "iopub.execute_input": "2024-10-31T08:48:52.734550Z",
     "iopub.status.idle": "2024-10-31T08:48:56.684942Z",
     "shell.execute_reply.started": "2024-10-31T08:48:52.734514Z",
     "shell.execute_reply": "2024-10-31T08:48:56.683940Z"
    },
    "trusted": true
   },
   "outputs": [],
   "execution_count": null
  },
  {
   "cell_type": "code",
   "source": "",
   "metadata": {},
   "outputs": [],
   "execution_count": null
  }
 ]
}
