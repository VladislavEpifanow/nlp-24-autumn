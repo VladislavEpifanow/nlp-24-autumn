{
 "metadata": {
  "kernelspec": {
   "name": "python3",
   "display_name": "Python 3",
   "language": "python"
  },
  "language_info": {
   "name": "python",
   "version": "3.10.15",
   "mimetype": "text/x-python",
   "codemirror_mode": {
    "name": "ipython",
    "version": 3
   },
   "pygments_lexer": "ipython3",
   "nbconvert_exporter": "python",
   "file_extension": ".py"
  },
  "colab": {
   "provenance": [],
   "gpuType": "T4"
  },
  "accelerator": "GPU",
  "kaggle": {
   "accelerator": "tpu1vmV38",
   "dataSources": [
    {
     "sourceId": 9691812,
     "sourceType": "datasetVersion",
     "datasetId": 5923501
    }
   ],
   "dockerImageVersionId": 30788,
   "isInternetEnabled": true,
   "language": "python",
   "sourceType": "notebook",
   "isGpuEnabled": false
  }
 },
 "nbformat_minor": 4,
 "nbformat": 4,
 "cells": [
  {
   "cell_type": "code",
   "source": "from collections import Counter, defaultdict\nimport os\nfrom tqdm import tqdm\nfrom pathlib import Path\nimport nltk\nfrom nltk.corpus import stopwords\nimport re\nimport string",
   "metadata": {
    "id": "p2FRRVJcACK4",
    "execution": {
     "iopub.status.busy": "2024-10-22T11:40:26.953931Z",
     "iopub.execute_input": "2024-10-22T11:40:26.954295Z",
     "iopub.status.idle": "2024-10-22T11:40:26.958566Z",
     "shell.execute_reply.started": "2024-10-22T11:40:26.954268Z",
     "shell.execute_reply": "2024-10-22T11:40:26.957890Z"
    },
    "trusted": true
   },
   "outputs": [],
   "execution_count": null
  },
  {
   "cell_type": "code",
   "source": "nltk.download('stopwords')\n\nstop_words = set(stopwords.words('english'))",
   "metadata": {
    "colab": {
     "base_uri": "https://localhost:8080/"
    },
    "id": "yMkf3SnMACK5",
    "outputId": "f949fe06-7b86-460d-b26e-d321e5f44b50",
    "execution": {
     "iopub.status.busy": "2024-10-22T10:18:42.313546Z",
     "iopub.execute_input": "2024-10-22T10:18:42.313982Z",
     "iopub.status.idle": "2024-10-22T10:18:42.439209Z",
     "shell.execute_reply.started": "2024-10-22T10:18:42.313953Z",
     "shell.execute_reply": "2024-10-22T10:18:42.438260Z"
    },
    "trusted": true
   },
   "outputs": [],
   "execution_count": null
  },
  {
   "cell_type": "code",
   "source": "def read_tsv_file(path_file):\n    sentences = []\n    with open(path_file, 'r', encoding='utf-8') as file:\n        for line in file:\n            if line.strip():\n                word = line.split('\\t')[0].strip()\n                if word:\n                    sentences.append(word)\n    return sentences\n\ndef build_token_dictionary(sentences):\n    token_freq = Counter(sentences)\n    token_freq = {token: freq for token, freq in token_freq.items() if freq > 0 and token not in stop_words and re.sub(r\"[^\\w\\s]\", \"\", token) != ''}\n    return token_freq",
   "metadata": {
    "id": "gRNaHzcBACK5",
    "execution": {
     "iopub.status.busy": "2024-10-22T10:18:42.615770Z",
     "iopub.execute_input": "2024-10-22T10:18:42.616083Z",
     "iopub.status.idle": "2024-10-22T10:18:42.621790Z",
     "shell.execute_reply.started": "2024-10-22T10:18:42.616056Z",
     "shell.execute_reply": "2024-10-22T10:18:42.621022Z"
    },
    "trusted": true
   },
   "outputs": [],
   "execution_count": null
  },
  {
   "cell_type": "code",
   "source": "path_folder  = '/kaggle/input/nlp-lab/train'\nfolder_category = os.listdir(path_folder)\n\ndocuments = []\nsentences = []\n\nfor folder in tqdm(folder_category):\n    include_files = os.listdir(os.path.join(path_folder, folder))\n    for file in include_files:\n        path_file = f'{path_folder}/{folder}/{file}'\n        sentence = read_tsv_file(path_file)\n        sentences += sentence\n        documents.append(f'{folder}/{file}')\n\ntoken_freq = build_token_dictionary(sentences)\n",
   "metadata": {
    "colab": {
     "base_uri": "https://localhost:8080/"
    },
    "id": "NPzg1MGGACK5",
    "outputId": "9cd4288e-b7e1-4afc-b4db-8208c49399a2"
   },
   "outputs": [],
   "execution_count": null
  },
  {
   "cell_type": "code",
   "source": "import json\n\nwith open('token_freq.json', 'w', encoding='utf-8') as f:\n    json.dump(token_freq, f, ensure_ascii=False, indent=4)",
   "metadata": {
    "id": "OwsC4yxoACK6"
   },
   "outputs": [],
   "execution_count": null
  },
  {
   "cell_type": "code",
   "source": "import csv\nimport pandas as pd\n\nterms = list(token_freq.keys())\n\ndef create_term_document_matrix(documents, terms):\n    matrix = {'Word': terms}\n    for doc in tqdm(documents[:]):\n        path_file = os.path.join(path_folder, doc)\n        sentence = read_tsv_file(path_file)\n        tk_freq = build_token_dictionary(sentence)\n        count = []\n        for token in terms:\n            if token in list(tk_freq.keys()):\n                count.append(tk_freq[token])\n            else:\n                count.append(0)\n        matrix[doc] = count\n    df = pd.DataFrame(matrix)\n    df.to_csv('output-lab2.csv', index=False)\n    return pd.DataFrame(matrix)\n\nterm_document_matrix = create_term_document_matrix(documents, terms)\n",
   "metadata": {
    "colab": {
     "base_uri": "https://localhost:8080/"
    },
    "id": "cV_1T0HWACK6",
    "outputId": "5a319295-b725-4985-8211-dd5018f48ffc"
   },
   "outputs": [],
   "execution_count": null
  },
  {
   "cell_type": "code",
   "source": "import pandas as pd\n\ndf = pd.read_csv('/kaggle/input/nlp-lab/output-lab2.csv')\n\ndf.head(10)",
   "metadata": {
    "id": "W2RNkHynACK6",
    "execution": {
     "iopub.status.busy": "2024-10-22T10:18:55.514129Z",
     "iopub.execute_input": "2024-10-22T10:18:55.514511Z",
     "iopub.status.idle": "2024-10-22T10:23:09.557454Z",
     "shell.execute_reply.started": "2024-10-22T10:18:55.514483Z",
     "shell.execute_reply": "2024-10-22T10:23:09.556527Z"
    },
    "trusted": true
   },
   "outputs": [],
   "execution_count": null
  },
  {
   "cell_type": "code",
   "source": "def tokenize(text):\n    matches = []\n    cleaned_tokens = []\n    #Удаляем email\n    text = re.sub(r'\\S+@\\S+', '', text)\n\n    # Удаляем пунктуацию\n    text = text.translate(str.maketrans('', '', string.punctuation))\n\n    # Удаляем телефонные номера\n    text = re.sub(r\"^\\\\+?[1-9][0-9]{7,14}$\", '', text)\n\n    new_sentences = re.split(r'(?<!\\w\\.\\w.)(?<![A-Z][a-z]\\.)(?<=\\.|\\?|!|\\n)\\s', text)\n\n\n    for sentences in new_sentences:\n        for line in sentences.split(r\"(?<!\\w\\.\\w.)(?<![A-Z][a-z]\\.)(?<=\\.|\\?|!|\\n)\\s\"):\n            clear_token = re.findall(r'\\b\\w+\\b|[\\(\\),.—:;!?|<>\"]', line)\n            if clear_token:\n                cleaned_tokens.append(clear_token)\n\n    for sentence in cleaned_tokens:\n        for num, token in enumerate(sentence):\n            for i, match in enumerate(matches):\n                if token == f'__regex_match_{i}__':\n                    sentence[num] = match\n    return cleaned_tokens\n\ndef processing_sentences(sentences):\n    tokens = [tokenize(sentence) for sentence in sentences]\n    return tokens",
   "metadata": {
    "id": "lVvXe4TwVVQ3",
    "execution": {
     "iopub.status.busy": "2024-10-22T10:23:09.559323Z",
     "iopub.execute_input": "2024-10-22T10:23:09.559685Z",
     "iopub.status.idle": "2024-10-22T10:23:09.566920Z",
     "shell.execute_reply.started": "2024-10-22T10:23:09.559651Z",
     "shell.execute_reply": "2024-10-22T10:23:09.566053Z"
    },
    "trusted": true
   },
   "outputs": [],
   "execution_count": null
  },
  {
   "cell_type": "code",
   "source": "def count_texts_with_word(df, word):\n    word_data = df[df[df.columns[0]] == word]\n    count = (word_data.iloc[0, 1:] > 0).sum()\n\n    return count",
   "metadata": {
    "id": "fckPgEdrACK6",
    "execution": {
     "iopub.status.busy": "2024-10-22T10:23:09.567783Z",
     "iopub.execute_input": "2024-10-22T10:23:09.568026Z",
     "iopub.status.idle": "2024-10-22T10:23:09.586518Z",
     "shell.execute_reply.started": "2024-10-22T10:23:09.567989Z",
     "shell.execute_reply": "2024-10-22T10:23:09.585757Z"
    },
    "trusted": true
   },
   "outputs": [],
   "execution_count": null
  },
  {
   "cell_type": "code",
   "source": "import math\ndef vectorize_tf_idf(text, df):\n    tokens = text\n    tf = {}\n    idf = {}\n    tf_idf = {}\n    result = []\n    clear_tokens = tokens\n    new_clear_tokens = []\n    token_fr = build_token_dictionary(clear_tokens)\n\n    total_words = sum(token_fr.values())\n    documents_count = len(df.columns[1:])\n\n\n    for word in list(df['Word']):\n        if word in token_fr.keys():\n            tf[word] = token_fr[word] / total_words\n            idf[word] = math.log((documents_count / count_texts_with_word(df, word)) + 1)\n            tf_idf[word] = tf[word] * idf[word]\n            result.append(tf[word] * idf[word])\n        else:\n            tf_idf[word] = 0.0\n            result.append(0.0)\n    return result\n\n",
   "metadata": {
    "id": "e6pgRvTxACK7",
    "execution": {
     "iopub.status.busy": "2024-10-22T10:23:09.588205Z",
     "iopub.execute_input": "2024-10-22T10:23:09.588497Z",
     "iopub.status.idle": "2024-10-22T10:23:09.597274Z",
     "shell.execute_reply.started": "2024-10-22T10:23:09.588471Z",
     "shell.execute_reply": "2024-10-22T10:23:09.596495Z"
    },
    "trusted": true
   },
   "outputs": [],
   "execution_count": null
  },
  {
   "cell_type": "code",
   "source": "from gensim.models import Word2Vec\npath_folder  = '/kaggle/input/nlp-lab/train/train'\nfolder_category = os.listdir(path_folder)\n\ntrain_sentences = []\n\nfor folder in tqdm(folder_category):\n    include_files = os.listdir(os.path.join(path_folder, folder))\n    for file in include_files:\n        path_file = f'{path_folder}/{folder}/{file}'\n        sentence = read_tsv_file(path_file)\n        train_sentences.append(sentence)\n\n\n\nmodel = Word2Vec(sentences=train_sentences, vector_size=100, window=5, min_count=1, workers=4, epochs=40)",
   "metadata": {
    "colab": {
     "base_uri": "https://localhost:8080/"
    },
    "id": "Ptw2u17mACK7",
    "outputId": "defd669a-301b-4e8c-e341-bc524f864df4",
    "execution": {
     "iopub.status.busy": "2024-10-22T10:23:23.971362Z",
     "iopub.execute_input": "2024-10-22T10:23:23.971674Z",
     "iopub.status.idle": "2024-10-22T10:25:30.315028Z",
     "shell.execute_reply.started": "2024-10-22T10:23:23.971647Z",
     "shell.execute_reply": "2024-10-22T10:25:30.314045Z"
    },
    "trusted": true
   },
   "outputs": [],
   "execution_count": null
  },
  {
   "cell_type": "code",
   "source": "similar_words = model.wv.most_similar(\"organization\")\nsimilar_words",
   "metadata": {
    "colab": {
     "base_uri": "https://localhost:8080/"
    },
    "id": "u6I8chQiACK7",
    "outputId": "8e397b5a-0686-4ced-8c49-389ad851ce5d",
    "execution": {
     "iopub.status.busy": "2024-10-22T10:25:30.316279Z",
     "iopub.execute_input": "2024-10-22T10:25:30.316586Z",
     "iopub.status.idle": "2024-10-22T10:25:30.373041Z",
     "shell.execute_reply.started": "2024-10-22T10:25:30.316558Z",
     "shell.execute_reply": "2024-10-22T10:25:30.371407Z"
    },
    "trusted": true
   },
   "outputs": [],
   "execution_count": null
  },
  {
   "cell_type": "code",
   "source": "import numpy as np\n\ndef cosine_similarity_custom(vec1, vec2):\n    dot_product = np.dot(vec1, vec2)\n    norm_vec1 = np.linalg.norm(vec1)\n    norm_vec2 = np.linalg.norm(vec2)\n    return dot_product / (norm_vec1 * norm_vec2)\n\n",
   "metadata": {
    "colab": {
     "base_uri": "https://localhost:8080/"
    },
    "id": "IrCS0IXDACK7",
    "outputId": "287ecc5a-f03d-4d73-f952-e7b1dc5140e4",
    "execution": {
     "iopub.status.busy": "2024-10-22T11:25:29.599621Z",
     "iopub.execute_input": "2024-10-22T11:25:29.599967Z",
     "iopub.status.idle": "2024-10-22T11:25:29.604751Z",
     "shell.execute_reply.started": "2024-10-22T11:25:29.599939Z",
     "shell.execute_reply": "2024-10-22T11:25:29.603921Z"
    },
    "trusted": true
   },
   "outputs": [],
   "execution_count": null
  },
  {
   "cell_type": "code",
   "source": "cosine_similarity_custom(model.wv[\"organization\"], model.wv[\"party\"])",
   "metadata": {},
   "outputs": [],
   "execution_count": null
  },
  {
   "cell_type": "code",
   "source": "from sklearn.decomposition import PCA\nsim_tokens = ['organisation', 'party', 'individual', 'dimension', 'component', 'arena', 'establishment', 'initiative', 'ceremony', 'action', 'organization']\nvectorized_sim = [model.wv[token] for token in sim_tokens]\npca = PCA(n_components=2)\nres = pca.fit_transform(vectorized_sim)\n",
   "metadata": {
    "id": "-l83X1MJACK7",
    "execution": {
     "iopub.status.busy": "2024-10-22T10:25:30.406316Z",
     "iopub.execute_input": "2024-10-22T10:25:30.406927Z",
     "iopub.status.idle": "2024-10-22T10:25:30.470170Z",
     "shell.execute_reply.started": "2024-10-22T10:25:30.406858Z",
     "shell.execute_reply": "2024-10-22T10:25:30.468694Z"
    },
    "trusted": true
   },
   "outputs": [],
   "execution_count": null
  },
  {
   "cell_type": "code",
   "source": "for token in sim_tokens[1:]:\n    print(f'Current token: local -- Selected token: {token} --->{cosine_similarity_custom(model.wv[\"organization\"], model.wv[token])}')",
   "metadata": {
    "colab": {
     "base_uri": "https://localhost:8080/"
    },
    "id": "IeSulSLvACK7",
    "outputId": "783ca278-2690-4063-fbb2-489b1b7817c5",
    "execution": {
     "iopub.status.busy": "2024-10-22T10:25:30.472211Z",
     "iopub.execute_input": "2024-10-22T10:25:30.473283Z",
     "iopub.status.idle": "2024-10-22T10:25:30.482278Z",
     "shell.execute_reply.started": "2024-10-22T10:25:30.473216Z",
     "shell.execute_reply": "2024-10-22T10:25:30.480783Z"
    },
    "trusted": true
   },
   "outputs": [],
   "execution_count": null
  },
  {
   "cell_type": "code",
   "source": "import matplotlib.pyplot as plt\n\nplt.figure(figsize=(12, 8))\nfor i, token in enumerate(sim_tokens):\n    plt.scatter(res[i, 0], res[i, 1])\n    plt.text(res[i, 0]+0.01, res[i, 1]+0.01, token, fontsize=9)\n\nplt.xlabel('X')\nplt.ylabel('Y')\nplt.title('2D')\nplt.grid(True)\nplt.show()",
   "metadata": {
    "colab": {
     "base_uri": "https://localhost:8080/",
     "height": 483
    },
    "id": "bDh4HyGYACK7",
    "outputId": "e61537f8-e75f-4faa-c58e-27c76ce26483",
    "execution": {
     "iopub.status.busy": "2024-10-22T10:25:30.484219Z",
     "iopub.execute_input": "2024-10-22T10:25:30.484809Z",
     "iopub.status.idle": "2024-10-22T10:25:31.906640Z",
     "shell.execute_reply.started": "2024-10-22T10:25:30.484742Z",
     "shell.execute_reply": "2024-10-22T10:25:31.905966Z"
    },
    "trusted": true
   },
   "outputs": [],
   "execution_count": null
  },
  {
   "cell_type": "code",
   "source": "list(df['Word'])",
   "metadata": {
    "colab": {
     "base_uri": "https://localhost:8080/"
    },
    "id": "51jW2X73ACK8",
    "outputId": "fc20f985-0595-4cb1-f36f-4a8b9d3185ca",
    "execution": {
     "iopub.status.busy": "2024-10-22T10:25:31.923193Z",
     "iopub.execute_input": "2024-10-22T10:25:31.923440Z",
     "iopub.status.idle": "2024-10-22T10:25:31.955778Z",
     "shell.execute_reply.started": "2024-10-22T10:25:31.923415Z",
     "shell.execute_reply": "2024-10-22T10:25:31.955209Z"
    },
    "collapsed": true,
    "jupyter": {
     "outputs_hidden": true
    },
    "trusted": true
   },
   "outputs": [],
   "execution_count": null
  },
  {
   "cell_type": "code",
   "source": "term_text = []\n\nfor sample_content in tqdm(list(df['Word'])[:20000]):\n    tokens = vectorize_tf_idf(str(sample_content),df)\n    term_text.append(tokens)",
   "metadata": {
    "colab": {
     "base_uri": "https://localhost:8080/"
    },
    "id": "NmvnVa5AACK8",
    "outputId": "9ee7570c-ac9a-48c3-a773-7e4c533078fb",
    "execution": {
     "iopub.status.busy": "2024-10-22T10:37:19.891751Z",
     "iopub.execute_input": "2024-10-22T10:37:19.892810Z",
     "iopub.status.idle": "2024-10-22T11:15:25.580532Z",
     "shell.execute_reply.started": "2024-10-22T10:37:19.892773Z",
     "shell.execute_reply": "2024-10-22T11:15:25.579575Z"
    },
    "trusted": true
   },
   "outputs": [],
   "execution_count": null
  },
  {
   "cell_type": "code",
   "source": "with open(\"term_text.txt\", \"w\") as txt_file:\n    for line in term_text:\n        txt_file.write(\" \".join(line) + \"\\n\") # works with any number of elements in a line",
   "metadata": {
    "execution": {
     "iopub.status.busy": "2024-10-22T11:33:48.295511Z",
     "iopub.execute_input": "2024-10-22T11:33:48.295849Z",
     "iopub.status.idle": "2024-10-22T11:33:48.341494Z",
     "shell.execute_reply.started": "2024-10-22T11:33:48.295820Z",
     "shell.execute_reply": "2024-10-22T11:33:48.340354Z"
    },
    "collapsed": true,
    "jupyter": {
     "outputs_hidden": true
    },
    "trusted": true
   },
   "outputs": [],
   "execution_count": null
  },
  {
   "cell_type": "code",
   "source": "pca = PCA(n_components=len(model.wv[0]))\nterms_transformed = pca.fit_transform(term_text)",
   "metadata": {
    "id": "qbvbWr5yACK8",
    "execution": {
     "iopub.status.busy": "2024-10-22T11:20:09.450997Z",
     "iopub.execute_input": "2024-10-22T11:20:09.451349Z",
     "iopub.status.idle": "2024-10-22T11:22:06.106533Z",
     "shell.execute_reply.started": "2024-10-22T11:20:09.451323Z",
     "shell.execute_reply": "2024-10-22T11:22:06.105240Z"
    },
    "collapsed": true,
    "jupyter": {
     "outputs_hidden": true
    },
    "trusted": true
   },
   "outputs": [],
   "execution_count": null
  },
  {
   "cell_type": "code",
   "source": "terms_to_compare = pd.DataFrame(terms_transformed)\nterms_to_compare.index = df['Word'].loc[:19999]",
   "metadata": {
    "id": "VQXF2djHACK8",
    "execution": {
     "iopub.status.busy": "2024-10-22T11:19:58.829144Z",
     "iopub.execute_input": "2024-10-22T11:19:58.829483Z",
     "iopub.status.idle": "2024-10-22T11:19:58.834280Z",
     "shell.execute_reply.started": "2024-10-22T11:19:58.829457Z",
     "shell.execute_reply": "2024-10-22T11:19:58.833430Z"
    },
    "trusted": true
   },
   "outputs": [],
   "execution_count": null
  },
  {
   "cell_type": "code",
   "source": "terms_to_compare.head(20)",
   "metadata": {
    "id": "puQjWL_-ACK8",
    "execution": {
     "iopub.status.busy": "2024-10-22T11:27:41.789568Z",
     "iopub.execute_input": "2024-10-22T11:27:41.789902Z",
     "iopub.status.idle": "2024-10-22T11:27:41.825498Z",
     "shell.execute_reply.started": "2024-10-22T11:27:41.789875Z",
     "shell.execute_reply": "2024-10-22T11:27:41.824693Z"
    },
    "trusted": true
   },
   "outputs": [],
   "execution_count": null
  },
  {
   "cell_type": "code",
   "source": "def compare_words(word1, word2):\n    print(f\"Words: {word1} --- {word2}\")\n    print(\"W2Vec:\", cosine_similarity_custom(model.wv[word1], model.wv[word2]))\n    print(\"Tf-Idf:\", cosine_similarity_custom(terms_to_compare.loc[word1], terms_to_compare.loc[word2]))\n",
   "metadata": {
    "id": "p1K8tw9fACK8",
    "execution": {
     "iopub.status.busy": "2024-10-22T11:22:39.131977Z",
     "iopub.execute_input": "2024-10-22T11:22:39.132342Z",
     "iopub.status.idle": "2024-10-22T11:22:39.137268Z",
     "shell.execute_reply.started": "2024-10-22T11:22:39.132311Z",
     "shell.execute_reply": "2024-10-22T11:22:39.136439Z"
    },
    "trusted": true
   },
   "outputs": [],
   "execution_count": null
  },
  {
   "cell_type": "code",
   "source": "compare_words('organization', 'lines')",
   "metadata": {
    "id": "6bT-4ns2ACK8",
    "execution": {
     "iopub.status.busy": "2024-10-22T11:27:29.475486Z",
     "iopub.execute_input": "2024-10-22T11:27:29.476365Z",
     "iopub.status.idle": "2024-10-22T11:27:29.482473Z",
     "shell.execute_reply.started": "2024-10-22T11:27:29.476327Z",
     "shell.execute_reply": "2024-10-22T11:27:29.481662Z"
    },
    "trusted": true
   },
   "outputs": [],
   "execution_count": null
  },
  {
   "cell_type": "code",
   "source": "compare_words('music', 'heavy')",
   "metadata": {
    "execution": {
     "iopub.status.busy": "2024-10-22T11:28:00.008167Z",
     "iopub.execute_input": "2024-10-22T11:28:00.008528Z",
     "iopub.status.idle": "2024-10-22T11:28:00.014665Z",
     "shell.execute_reply.started": "2024-10-22T11:28:00.008498Z",
     "shell.execute_reply": "2024-10-22T11:28:00.013844Z"
    },
    "trusted": true
   },
   "outputs": [],
   "execution_count": null
  },
  {
   "cell_type": "code",
   "source": "def vectorize_text(text, model):\n    res_text = [0 for i in range(model.vector_size)]\n    sentences = tokenize(text)\n    for sentence in sentences:\n        res_sent = [0 for i in range(model.vector_size)]\n        for token in sentence:\n            if model.wv.has_index_for(token):\n                res_sent += model.wv[token]\n        res_sent = np.array(res_sent) / len(res_sent)\n        res_text += res_sent\n    return res_text /  len(sentences)\n",
   "metadata": {
    "id": "DuPCCWp9ACK8",
    "execution": {
     "iopub.status.busy": "2024-10-22T11:28:05.748367Z",
     "iopub.execute_input": "2024-10-22T11:28:05.748733Z",
     "iopub.status.idle": "2024-10-22T11:28:05.754156Z",
     "shell.execute_reply.started": "2024-10-22T11:28:05.748703Z",
     "shell.execute_reply": "2024-10-22T11:28:05.753327Z"
    },
    "trusted": true
   },
   "outputs": [],
   "execution_count": null
  },
  {
   "cell_type": "code",
   "source": "text = \"People in the San Francisco Bay area can get Darwin Fish from Lynn Gold\"\nvectorize_text(text, model)",
   "metadata": {
    "id": "w3r6CNfnACK8",
    "execution": {
     "iopub.status.busy": "2024-10-22T11:29:28.869775Z",
     "iopub.execute_input": "2024-10-22T11:29:28.870658Z",
     "iopub.status.idle": "2024-10-22T11:29:28.877970Z",
     "shell.execute_reply.started": "2024-10-22T11:29:28.870620Z",
     "shell.execute_reply": "2024-10-22T11:29:28.877202Z"
    },
    "trusted": true
   },
   "outputs": [],
   "execution_count": null
  },
  {
   "cell_type": "code",
   "source": "path_foldes = '/kaggle/input/nlp-lab/20news-bydate/20news-bydate/20news-bydate-train'\n\ncatalogs = os.listdir(path_foldes)\nfor catalog in catalogs:\n    include_catalog = os.listdir(os.path.join(path_foldes, catalog))\n    for file in include_catalog:\n        if os.path.isdir(os.path.join(path_foldes, f'{catalog}/{file}')):\n            catalogs.append(f'{catalog}/{file}')\n",
   "metadata": {
    "id": "1P16RR7xACK8",
    "execution": {
     "iopub.status.busy": "2024-10-22T11:57:01.397198Z",
     "iopub.execute_input": "2024-10-22T11:57:01.397554Z",
     "iopub.status.idle": "2024-10-22T11:57:20.907492Z",
     "shell.execute_reply.started": "2024-10-22T11:57:01.397528Z",
     "shell.execute_reply": "2024-10-22T11:57:20.906692Z"
    },
    "trusted": true
   },
   "outputs": [],
   "execution_count": null
  },
  {
   "cell_type": "code",
   "source": "dict_tsv = {}\nfor catalog in tqdm(catalogs):\n    include_catalog = os.listdir(os.path.join(path_foldes, catalog))\n    for file in include_catalog:\n        if not os.path.isdir(os.path.join(path_foldes, f'{catalog}/{file}')):\n            with open(os.path.join(path_foldes, f'{catalog}/{file}'), 'r', encoding='latin1') as file_name:\n                sample_content = file_name.read()\n            vect = vectorize_text(sample_content, model)\n            dict_tsv[f'{catalog}/{file}'] = vect",
   "metadata": {
    "id": "zq1HC7_FACK8",
    "execution": {
     "iopub.status.busy": "2024-10-22T12:05:08.538063Z",
     "iopub.execute_input": "2024-10-22T12:05:08.538487Z",
     "iopub.status.idle": "2024-10-22T12:05:28.201969Z",
     "shell.execute_reply.started": "2024-10-22T12:05:08.538452Z",
     "shell.execute_reply": "2024-10-22T12:05:28.201052Z"
    },
    "trusted": true
   },
   "outputs": [],
   "execution_count": null
  },
  {
   "cell_type": "code",
   "source": "dict_tsv",
   "metadata": {
    "id": "kXmd7voVACK8",
    "execution": {
     "iopub.status.busy": "2024-10-22T11:33:09.465229Z",
     "iopub.execute_input": "2024-10-22T11:33:09.465571Z",
     "iopub.status.idle": "2024-10-22T11:33:10.207450Z",
     "shell.execute_reply.started": "2024-10-22T11:33:09.465545Z",
     "shell.execute_reply": "2024-10-22T11:33:10.206752Z"
    },
    "collapsed": true,
    "jupyter": {
     "outputs_hidden": true
    },
    "trusted": true
   },
   "outputs": [],
   "execution_count": null
  },
  {
   "cell_type": "code",
   "source": "with open(\"/kaggle/working/train_embeddings.tsv\", \"w\") as f:\n    for k in dict_tsv.keys():\n        print(k.replace(\".tsv\", \"\"), *dict_tsv[k], sep=\"\\t\", file=f)",
   "metadata": {
    "id": "GlY8Xpi-ACK8",
    "execution": {
     "iopub.status.busy": "2024-10-22T12:05:28.203258Z",
     "iopub.execute_input": "2024-10-22T12:05:28.203514Z",
     "iopub.status.idle": "2024-10-22T12:05:28.971831Z",
     "shell.execute_reply.started": "2024-10-22T12:05:28.203490Z",
     "shell.execute_reply": "2024-10-22T12:05:28.971061Z"
    },
    "trusted": true
   },
   "outputs": [],
   "execution_count": null
  },
  {
   "cell_type": "code",
   "source": "train_emb = pd.read_csv('/kaggle/working/train_embeddings.tsv', sep='\\t')",
   "metadata": {
    "execution": {
     "iopub.status.busy": "2024-10-22T12:03:45.117603Z",
     "iopub.execute_input": "2024-10-22T12:03:45.117952Z",
     "iopub.status.idle": "2024-10-22T12:03:45.332872Z",
     "shell.execute_reply.started": "2024-10-22T12:03:45.117925Z",
     "shell.execute_reply": "2024-10-22T12:03:45.331898Z"
    },
    "trusted": true
   },
   "outputs": [],
   "execution_count": null
  },
  {
   "cell_type": "code",
   "source": "train_emb.head",
   "metadata": {
    "execution": {
     "iopub.status.busy": "2024-10-22T11:49:18.776686Z",
     "iopub.execute_input": "2024-10-22T11:49:18.777033Z",
     "iopub.status.idle": "2024-10-22T11:49:18.794348Z",
     "shell.execute_reply.started": "2024-10-22T11:49:18.776992Z",
     "shell.execute_reply": "2024-10-22T11:49:18.793588Z"
    },
    "collapsed": true,
    "jupyter": {
     "outputs_hidden": true
    },
    "trusted": true
   },
   "outputs": [],
   "execution_count": null
  },
  {
   "cell_type": "code",
   "source": "path_foldes = '/kaggle/input/nlp-lab/20news-bydate/20news-bydate/20news-bydate-test'\n\ncatalogs = os.listdir(path_foldes)\nfor catalog in catalogs:\n    include_catalog = os.listdir(os.path.join(path_foldes, catalog))\n    for file in include_catalog:\n        if os.path.isdir(os.path.join(path_foldes, f'{catalog}/{file}')):\n            catalogs.append(f'{catalog}/{file}')\n",
   "metadata": {
    "execution": {
     "iopub.status.busy": "2024-10-22T12:00:50.441552Z",
     "iopub.execute_input": "2024-10-22T12:00:50.442314Z",
     "iopub.status.idle": "2024-10-22T12:01:05.065433Z",
     "shell.execute_reply.started": "2024-10-22T12:00:50.442280Z",
     "shell.execute_reply": "2024-10-22T12:01:05.064698Z"
    },
    "trusted": true
   },
   "outputs": [],
   "execution_count": null
  },
  {
   "cell_type": "code",
   "source": "dict_tsv_test = {}\nfor catalog in tqdm(catalogs):\n    include_catalog = os.listdir(os.path.join(path_foldes, catalog))\n    for file in include_catalog:\n        if not os.path.isdir(os.path.join(path_foldes, f'{catalog}/{file}')):\n            with open(os.path.join(path_foldes, f'{catalog}/{file}'), 'r', encoding='latin1') as file_name:\n                sample_content = file_name.read()\n            vect = vectorize_text(sample_content, model)\n            dict_tsv_test[f'{catalog}/{file}'] = vect",
   "metadata": {
    "execution": {
     "iopub.status.busy": "2024-10-22T12:05:35.192858Z",
     "iopub.execute_input": "2024-10-22T12:05:35.193690Z",
     "iopub.status.idle": "2024-10-22T12:05:51.317928Z",
     "shell.execute_reply.started": "2024-10-22T12:05:35.193658Z",
     "shell.execute_reply": "2024-10-22T12:05:51.317265Z"
    },
    "trusted": true
   },
   "outputs": [],
   "execution_count": null
  },
  {
   "cell_type": "code",
   "source": "with open(\"/kaggle/working/test_embeddings.tsv\", \"w\") as f:\n    for k in dict_tsv_test.keys():\n        print(k.replace(\".tsv\", \"\"), *dict_tsv_test[k], sep=\"\\t\", file=f)",
   "metadata": {
    "execution": {
     "iopub.status.busy": "2024-10-22T12:05:51.319172Z",
     "iopub.execute_input": "2024-10-22T12:05:51.319447Z",
     "iopub.status.idle": "2024-10-22T12:05:52.098557Z",
     "shell.execute_reply.started": "2024-10-22T12:05:51.319403Z",
     "shell.execute_reply": "2024-10-22T12:05:52.097832Z"
    },
    "trusted": true
   },
   "outputs": [],
   "execution_count": null
  },
  {
   "cell_type": "code",
   "source": "",
   "metadata": {},
   "outputs": [],
   "execution_count": null
  }
 ]
}
